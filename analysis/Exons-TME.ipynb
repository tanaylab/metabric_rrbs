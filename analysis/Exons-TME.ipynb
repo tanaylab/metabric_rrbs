{
 "cells": [
  {
   "cell_type": "markdown",
   "metadata": {},
   "source": [
    "# TME deconvolution - exons"
   ]
  },
  {
   "cell_type": "code",
   "execution_count": 1,
   "metadata": {},
   "outputs": [
    {
     "name": "stderr",
     "output_type": "stream",
     "text": [
      "Loading methylayer\n",
      "\n",
      "\n",
      "Attaching package: ‘testthat’\n",
      "\n",
      "\n",
      "The following object is masked from ‘package:dplyr’:\n",
      "\n",
      "    matches\n",
      "\n",
      "\n",
      "The following object is masked from ‘package:purrr’:\n",
      "\n",
      "    is_null\n",
      "\n",
      "\n",
      "The following object is masked from ‘package:tidyr’:\n",
      "\n",
      "    matches\n",
      "\n",
      "\n"
     ]
    }
   ],
   "source": [
    "source(here::here(\"scripts/init.R\"))"
   ]
  },
  {
   "cell_type": "code",
   "execution_count": 2,
   "metadata": {},
   "outputs": [],
   "source": [
    "prom_avg_meth <- get_promoter_avg_meth()"
   ]
  },
  {
   "cell_type": "code",
   "execution_count": 3,
   "metadata": {},
   "outputs": [],
   "source": [
    "expr_mat <- get_gene_expression_mat() %>% expr_intervs_to_mat()"
   ]
  },
  {
   "cell_type": "code",
   "execution_count": 4,
   "metadata": {},
   "outputs": [],
   "source": [
    "exon_meth <- get_exon_avg_meth()"
   ]
  },
  {
   "cell_type": "markdown",
   "metadata": {},
   "source": [
    "### ER+ samples"
   ]
  },
  {
   "cell_type": "code",
   "execution_count": 5,
   "metadata": {},
   "outputs": [
    {
     "name": "stderr",
     "output_type": "stream",
     "text": [
      "min_sd: 0.0965215274820842\n",
      "\n",
      "min_expr: 6.00725469829817\n",
      "\n",
      "calculating em-cross\n",
      "\n",
      "# of samples: 1108\n",
      "\n",
      "expression (columns): 16806\n",
      "\n",
      "methylation (rows): 3946\n",
      "\n",
      "2701 rows had at least one cor > 0.25\n",
      "\n",
      "5879 columns had at least one cor > 0.25\n",
      "\n",
      "5879 columns did not have more than 0 Na's \n",
      "\n",
      "2701 rows did not have more than 0 Na's \n",
      "\n",
      "clustering em-cross\n",
      "\n",
      "normalizing methylation\n",
      "\n",
      "immune module: 2\n",
      "\n",
      "cafs module: 8\n",
      "\n",
      "calculating TME methylation scores\n",
      "\n"
     ]
    }
   ],
   "source": [
    "ER_positive_norm_meth <- deconv_TME_metabric(prom_avg_meth, exon_meth, expr_mat, ER_positive_samples, k = 30) %cache_rds% here(\"data/ER_positive_norm_exon_meth.rds\")"
   ]
  },
  {
   "cell_type": "markdown",
   "metadata": {},
   "source": [
    "### ER- samples"
   ]
  },
  {
   "cell_type": "code",
   "execution_count": 6,
   "metadata": {},
   "outputs": [
    {
     "name": "stderr",
     "output_type": "stream",
     "text": [
      "min_sd: 0.0963502916561555\n",
      "\n",
      "min_expr: 6.00725469829817\n",
      "\n",
      "calculating em-cross\n",
      "\n",
      "# of samples: 310\n",
      "\n",
      "expression (columns): 16806\n",
      "\n",
      "methylation (rows): 3684\n",
      "\n",
      "3525 rows had at least one cor > 0.25\n",
      "\n",
      "11054 columns had at least one cor > 0.25\n",
      "\n",
      "11054 columns did not have more than 0 Na's \n",
      "\n",
      "3525 rows did not have more than 0 Na's \n",
      "\n",
      "clustering em-cross\n",
      "\n",
      "normalizing methylation\n",
      "\n",
      "immune module: 16\n",
      "\n",
      "cafs module: 18\n",
      "\n",
      "calculating TME methylation scores\n",
      "\n"
     ]
    }
   ],
   "source": [
    "ER_negative_norm_meth <- deconv_TME_metabric(prom_avg_meth, exon_meth, expr_mat, ER_negative_samples, k = 15) %cache_rds% here(\"data/ER_negative_norm_exon_meth.rds\")"
   ]
  },
  {
   "cell_type": "markdown",
   "metadata": {},
   "source": [
    "### Normal samples"
   ]
  },
  {
   "cell_type": "code",
   "execution_count": 7,
   "metadata": {},
   "outputs": [
    {
     "name": "stderr",
     "output_type": "stream",
     "text": [
      "min_sd: 0.0656269964434713\n",
      "\n",
      "min_expr: 6.00725469829817\n",
      "\n",
      "calculating em-cross\n",
      "\n",
      "# of samples: 92\n",
      "\n",
      "expression (columns): 16806\n",
      "\n",
      "methylation (rows): 2636\n",
      "\n",
      "2636 rows had at least one cor > 0.25\n",
      "\n",
      "16806 columns had at least one cor > 0.25\n",
      "\n",
      "16806 columns did not have more than 0 Na's \n",
      "\n",
      "2636 rows did not have more than 0 Na's \n",
      "\n",
      "clustering em-cross\n",
      "\n",
      "normalizing methylation\n",
      "\n",
      "immune module: 3\n",
      "\n",
      "cafs module: 11\n",
      "\n",
      "calculating TME methylation scores\n",
      "\n"
     ]
    }
   ],
   "source": [
    "normal_norm_meth <- deconv_TME_metabric(prom_avg_meth, exon_meth, expr_mat, normal_samples, k = 15) %cache_rds% here(\"data/normal_norm_exon_meth.rds\")"
   ]
  },
  {
   "cell_type": "markdown",
   "metadata": {},
   "source": [
    "## Merge all normalized methylation"
   ]
  },
  {
   "cell_type": "code",
   "execution_count": 8,
   "metadata": {},
   "outputs": [
    {
     "data": {
      "text/html": [
       "<table>\n",
       "<caption>A matrix: 5 × 5 of type dbl</caption>\n",
       "<thead>\n",
       "\t<tr><th></th><th scope=col>MB_0006</th><th scope=col>MB_0028</th><th scope=col>MB_0046</th><th scope=col>MB_0050</th><th scope=col>MB_0053</th></tr>\n",
       "</thead>\n",
       "<tbody>\n",
       "\t<tr><th scope=row>chr1_136952_139281</th><td>          NA</td><td>-0.005590510</td><td>-0.067832143</td><td> 0.054737150</td><td>-0.00648710</td></tr>\n",
       "\t<tr><th scope=row>chr1_761585_762902</th><td>-0.001658301</td><td>-0.007599587</td><td>-0.009553801</td><td>-0.008052132</td><td>         NA</td></tr>\n",
       "\t<tr><th scope=row>chr1_763063_763155</th><td>-0.026212291</td><td>-0.065095632</td><td> 0.165035064</td><td>-0.025467726</td><td>-0.06592218</td></tr>\n",
       "\t<tr><th scope=row>chr1_847324_850328</th><td>-0.048563238</td><td>-0.004047826</td><td> 0.075698988</td><td>-0.047522828</td><td> 0.17408909</td></tr>\n",
       "\t<tr><th scope=row>chr1_861120_861180</th><td>-0.030213700</td><td>-0.037696280</td><td>-0.004541924</td><td> 0.002994665</td><td> 0.07373253</td></tr>\n",
       "</tbody>\n",
       "</table>\n"
      ],
      "text/latex": [
       "A matrix: 5 × 5 of type dbl\n",
       "\\begin{tabular}{r|lllll}\n",
       "  & MB\\_0006 & MB\\_0028 & MB\\_0046 & MB\\_0050 & MB\\_0053\\\\\n",
       "\\hline\n",
       "\tchr1\\_136952\\_139281 &           NA & -0.005590510 & -0.067832143 &  0.054737150 & -0.00648710\\\\\n",
       "\tchr1\\_761585\\_762902 & -0.001658301 & -0.007599587 & -0.009553801 & -0.008052132 &          NA\\\\\n",
       "\tchr1\\_763063\\_763155 & -0.026212291 & -0.065095632 &  0.165035064 & -0.025467726 & -0.06592218\\\\\n",
       "\tchr1\\_847324\\_850328 & -0.048563238 & -0.004047826 &  0.075698988 & -0.047522828 &  0.17408909\\\\\n",
       "\tchr1\\_861120\\_861180 & -0.030213700 & -0.037696280 & -0.004541924 &  0.002994665 &  0.07373253\\\\\n",
       "\\end{tabular}\n"
      ],
      "text/markdown": [
       "\n",
       "A matrix: 5 × 5 of type dbl\n",
       "\n",
       "| <!--/--> | MB_0006 | MB_0028 | MB_0046 | MB_0050 | MB_0053 |\n",
       "|---|---|---|---|---|---|\n",
       "| chr1_136952_139281 |           NA | -0.005590510 | -0.067832143 |  0.054737150 | -0.00648710 |\n",
       "| chr1_761585_762902 | -0.001658301 | -0.007599587 | -0.009553801 | -0.008052132 |          NA |\n",
       "| chr1_763063_763155 | -0.026212291 | -0.065095632 |  0.165035064 | -0.025467726 | -0.06592218 |\n",
       "| chr1_847324_850328 | -0.048563238 | -0.004047826 |  0.075698988 | -0.047522828 |  0.17408909 |\n",
       "| chr1_861120_861180 | -0.030213700 | -0.037696280 | -0.004541924 |  0.002994665 |  0.07373253 |\n",
       "\n"
      ],
      "text/plain": [
       "                   MB_0006      MB_0028      MB_0046      MB_0050     \n",
       "chr1_136952_139281           NA -0.005590510 -0.067832143  0.054737150\n",
       "chr1_761585_762902 -0.001658301 -0.007599587 -0.009553801 -0.008052132\n",
       "chr1_763063_763155 -0.026212291 -0.065095632  0.165035064 -0.025467726\n",
       "chr1_847324_850328 -0.048563238 -0.004047826  0.075698988 -0.047522828\n",
       "chr1_861120_861180 -0.030213700 -0.037696280 -0.004541924  0.002994665\n",
       "                   MB_0053    \n",
       "chr1_136952_139281 -0.00648710\n",
       "chr1_761585_762902          NA\n",
       "chr1_763063_763155 -0.06592218\n",
       "chr1_847324_850328  0.17408909\n",
       "chr1_861120_861180  0.07373253"
      ]
     },
     "metadata": {},
     "output_type": "display_data"
    }
   ],
   "source": [
    "ER_positive_norm_meth$norm_meth[1:5, 1:5]"
   ]
  },
  {
   "cell_type": "code",
   "execution_count": 9,
   "metadata": {},
   "outputs": [],
   "source": [
    "all_norm_meth <- cbind(ER_positive_norm_meth$norm_meth, ER_negative_norm_meth$norm_meth, normal_norm_meth$norm_meth) %>% mat_to_intervs()"
   ]
  },
  {
   "cell_type": "code",
   "execution_count": 10,
   "metadata": {},
   "outputs": [
    {
     "data": {
      "text/html": [
       "<table>\n",
       "<caption>A data.frame: 5 × 5</caption>\n",
       "<thead>\n",
       "\t<tr><th></th><th scope=col>chrom</th><th scope=col>start</th><th scope=col>end</th><th scope=col>MB_0006</th><th scope=col>MB_0028</th></tr>\n",
       "\t<tr><th></th><th scope=col>&lt;chr&gt;</th><th scope=col>&lt;dbl&gt;</th><th scope=col>&lt;dbl&gt;</th><th scope=col>&lt;dbl&gt;</th><th scope=col>&lt;dbl&gt;</th></tr>\n",
       "</thead>\n",
       "<tbody>\n",
       "\t<tr><th scope=row>1</th><td>chr1</td><td>136952</td><td>139281</td><td>          NA</td><td>-0.005590510</td></tr>\n",
       "\t<tr><th scope=row>2</th><td>chr1</td><td>761585</td><td>762902</td><td>-0.001658301</td><td>-0.007599587</td></tr>\n",
       "\t<tr><th scope=row>3</th><td>chr1</td><td>763063</td><td>763155</td><td>-0.026212291</td><td>-0.065095632</td></tr>\n",
       "\t<tr><th scope=row>4</th><td>chr1</td><td>847324</td><td>850328</td><td>-0.048563238</td><td>-0.004047826</td></tr>\n",
       "\t<tr><th scope=row>5</th><td>chr1</td><td>861120</td><td>861180</td><td>-0.030213700</td><td>-0.037696280</td></tr>\n",
       "</tbody>\n",
       "</table>\n"
      ],
      "text/latex": [
       "A data.frame: 5 × 5\n",
       "\\begin{tabular}{r|lllll}\n",
       "  & chrom & start & end & MB\\_0006 & MB\\_0028\\\\\n",
       "  & <chr> & <dbl> & <dbl> & <dbl> & <dbl>\\\\\n",
       "\\hline\n",
       "\t1 & chr1 & 136952 & 139281 &           NA & -0.005590510\\\\\n",
       "\t2 & chr1 & 761585 & 762902 & -0.001658301 & -0.007599587\\\\\n",
       "\t3 & chr1 & 763063 & 763155 & -0.026212291 & -0.065095632\\\\\n",
       "\t4 & chr1 & 847324 & 850328 & -0.048563238 & -0.004047826\\\\\n",
       "\t5 & chr1 & 861120 & 861180 & -0.030213700 & -0.037696280\\\\\n",
       "\\end{tabular}\n"
      ],
      "text/markdown": [
       "\n",
       "A data.frame: 5 × 5\n",
       "\n",
       "| <!--/--> | chrom &lt;chr&gt; | start &lt;dbl&gt; | end &lt;dbl&gt; | MB_0006 &lt;dbl&gt; | MB_0028 &lt;dbl&gt; |\n",
       "|---|---|---|---|---|---|\n",
       "| 1 | chr1 | 136952 | 139281 |           NA | -0.005590510 |\n",
       "| 2 | chr1 | 761585 | 762902 | -0.001658301 | -0.007599587 |\n",
       "| 3 | chr1 | 763063 | 763155 | -0.026212291 | -0.065095632 |\n",
       "| 4 | chr1 | 847324 | 850328 | -0.048563238 | -0.004047826 |\n",
       "| 5 | chr1 | 861120 | 861180 | -0.030213700 | -0.037696280 |\n",
       "\n"
      ],
      "text/plain": [
       "  chrom start  end    MB_0006      MB_0028     \n",
       "1 chr1  136952 139281           NA -0.005590510\n",
       "2 chr1  761585 762902 -0.001658301 -0.007599587\n",
       "3 chr1  763063 763155 -0.026212291 -0.065095632\n",
       "4 chr1  847324 850328 -0.048563238 -0.004047826\n",
       "5 chr1  861120 861180 -0.030213700 -0.037696280"
      ]
     },
     "metadata": {},
     "output_type": "display_data"
    }
   ],
   "source": [
    "all_norm_meth[1:5, 1:5]"
   ]
  },
  {
   "cell_type": "code",
   "execution_count": 11,
   "metadata": {},
   "outputs": [
    {
     "data": {
      "text/html": [
       "<style>\n",
       ".list-inline {list-style: none; margin:0; padding: 0}\n",
       ".list-inline>li {display: inline-block}\n",
       ".list-inline>li:not(:last-child)::after {content: \"\\00b7\"; padding: 0 .5ex}\n",
       "</style>\n",
       "<ol class=list-inline><li>29512</li><li>1513</li></ol>\n"
      ],
      "text/latex": [
       "\\begin{enumerate*}\n",
       "\\item 29512\n",
       "\\item 1513\n",
       "\\end{enumerate*}\n"
      ],
      "text/markdown": [
       "1. 29512\n",
       "2. 1513\n",
       "\n",
       "\n"
      ],
      "text/plain": [
       "[1] 29512  1513"
      ]
     },
     "metadata": {},
     "output_type": "display_data"
    }
   ],
   "source": [
    "dim(all_norm_meth)"
   ]
  },
  {
   "cell_type": "code",
   "execution_count": 12,
   "metadata": {},
   "outputs": [],
   "source": [
    "fwrite(all_norm_meth, here(\"data/all_norm_exon_meth.csv\"))"
   ]
  },
  {
   "cell_type": "code",
   "execution_count": 50,
   "metadata": {},
   "outputs": [],
   "source": [
    "feats_df <- fread(here(\"data/epigenomic_features.tsv\"))\n",
    "exon_norm_meth <- all_norm_meth %>% as_tibble()\n",
    "exon_cors <- bind_rows(\n",
    "        epi_features_loci_cors(exon_norm_meth, feats_df, ER_positive_samples) %>% mutate(ER = \"ER+\"), \n",
    "        epi_features_loci_cors(exon_norm_meth, feats_df, ER_negative_samples) %>% mutate(ER = \"ER-\"), \n",
    "        epi_features_loci_cors(exon_norm_meth, feats_df, normal_samples) %>% mutate(ER = \"normal\")\n",
    "    ) %>% \n",
    "    select(chrom:end, ER, everything()) %fcache_df%\n",
    "    here(\"data/features_exon_cors.tsv\") %>% \n",
    "    as_tibble() \n",
    "loci_annot_exons <- exon_cors %>% \n",
    "    filter(ER == \"ER+\") %>% \n",
    "    select(-ER) %>% \n",
    "    annotate_loci() %cache_df% \n",
    "    here(\"data/exon_annot_epigenomic_features.tsv\") %>% \n",
    "    as_tibble()    "
   ]
  }
 ],
 "metadata": {
  "kernelspec": {
   "display_name": "R",
   "language": "R",
   "name": "ir"
  },
  "language_info": {
   "codemirror_mode": "r",
   "file_extension": ".r",
   "mimetype": "text/x-r-source",
   "name": "R",
   "pygments_lexer": "r",
   "version": "4.0.3"
  }
 },
 "nbformat": 4,
 "nbformat_minor": 4
}
