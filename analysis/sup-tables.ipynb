{
 "cells": [
  {
   "cell_type": "markdown",
   "metadata": {},
   "source": [
    "# Export supplementary tables "
   ]
  },
  {
   "cell_type": "code",
   "execution_count": 1,
   "metadata": {},
   "outputs": [],
   "source": [
    "source(here::here(\"scripts/init.R\"))"
   ]
  },
  {
   "cell_type": "markdown",
   "metadata": {},
   "source": [
    "## Table 1: METABRIC samples metadata"
   ]
  },
  {
   "cell_type": "markdown",
   "metadata": {},
   "source": [
    "METABRIC samples profiled in this study.  \n",
    "\n",
    "Metadata fields are:"
   ]
  },
  {
   "cell_type": "markdown",
   "metadata": {},
   "source": [
    "- samp\n",
    "- patient\n",
    "- batch\n",
    "- track\n",
    "- total_reads\n",
    "- mapped_reads\n",
    "- mapped_frac\n",
    "- cg_num\n",
    "- meth_calls\n",
    "- global_avg_meth\n",
    "- type\n",
    "- age\n",
    "- grade\n",
    "- stage\n",
    "- ER\n",
    "- IHC\n",
    "- iC10\n",
    "- PAM50\n",
    "- matched_normal\n",
    "- matched_tumor\n",
    "- digpath_lymph\n",
    "- digpath_stromal\n",
    "- IMC_Fibroblasts\n",
    "- IMC_Lymphocytes\n",
    "- ASCAT_cellularity\n",
    "- ASCAT_ploidy\n",
    "- MathScore\n",
    "- log10_global_epm"
   ]
  },
  {
   "cell_type": "code",
   "execution_count": 2,
   "metadata": {},
   "outputs": [],
   "source": [
    "samp_qc <- fread(here(\"data/sample_qc.csv\")) %>% as_tibble()"
   ]
  },
  {
   "cell_type": "code",
   "execution_count": 3,
   "metadata": {},
   "outputs": [
    {
     "name": "stderr",
     "output_type": "stream",
     "text": [
      "Joining, by = \"track\"\n",
      "\n"
     ]
    }
   ],
   "source": [
    "tab <- samp_data %>% left_join(samp_qc) %>% select(samp, patient, batch, track, total_reads, mapped_reads, mapped_frac, cg_num, meth_calls, global_avg_meth, type, age, grade, stage, ER, IHC, iC10, PAM50, matched_normal, matched_tumor, digpath_lymph, digpath_stromal, IMC_Fibroblasts, IMC_Lymphocytes, ASCAT_cellularity, MathScore, log10_global_epm)"
   ]
  },
  {
   "cell_type": "code",
   "execution_count": 4,
   "metadata": {},
   "outputs": [],
   "source": [
    "writexl::write_xlsx(tab, here(\"export/S1 - Sample Information.xlsx\"))"
   ]
  },
  {
   "cell_type": "markdown",
   "metadata": {},
   "source": [
    "## Table 2: Immune expression signature "
   ]
  },
  {
   "cell_type": "markdown",
   "metadata": {},
   "source": [
    "Table of genes that were used to define the Immune expression signature, separated by ER status."
   ]
  },
  {
   "cell_type": "code",
   "execution_count": 5,
   "metadata": {},
   "outputs": [
    {
     "data": {
      "text/html": [
       "<table class=\"dataframe\">\n",
       "<caption>A data.frame: 3 × 2</caption>\n",
       "<thead>\n",
       "\t<tr><th scope=col>ER</th><th scope=col>n</th></tr>\n",
       "\t<tr><th scope=col>&lt;chr&gt;</th><th scope=col>&lt;int&gt;</th></tr>\n",
       "</thead>\n",
       "<tbody>\n",
       "\t<tr><td>ER-   </td><td>345</td></tr>\n",
       "\t<tr><td>ER+   </td><td>195</td></tr>\n",
       "\t<tr><td>normal</td><td>864</td></tr>\n",
       "</tbody>\n",
       "</table>\n"
      ],
      "text/latex": [
       "A data.frame: 3 × 2\n",
       "\\begin{tabular}{ll}\n",
       " ER & n\\\\\n",
       " <chr> & <int>\\\\\n",
       "\\hline\n",
       "\t ER-    & 345\\\\\n",
       "\t ER+    & 195\\\\\n",
       "\t normal & 864\\\\\n",
       "\\end{tabular}\n"
      ],
      "text/markdown": [
       "\n",
       "A data.frame: 3 × 2\n",
       "\n",
       "| ER &lt;chr&gt; | n &lt;int&gt; |\n",
       "|---|---|\n",
       "| ER-    | 345 |\n",
       "| ER+    | 195 |\n",
       "| normal | 864 |\n",
       "\n"
      ],
      "text/plain": [
       "  ER     n  \n",
       "1 ER-    345\n",
       "2 ER+    195\n",
       "3 normal 864"
      ]
     },
     "metadata": {},
     "output_type": "display_data"
    },
    {
     "data": {
      "text/html": [
       "<table class=\"dataframe\">\n",
       "<caption>A data.frame: 6 × 2</caption>\n",
       "<thead>\n",
       "\t<tr><th></th><th scope=col>gene</th><th scope=col>ER</th></tr>\n",
       "\t<tr><th></th><th scope=col>&lt;chr&gt;</th><th scope=col>&lt;chr&gt;</th></tr>\n",
       "</thead>\n",
       "<tbody>\n",
       "\t<tr><th scope=row>1</th><td>ACAP1  </td><td>ER+</td></tr>\n",
       "\t<tr><th scope=row>2</th><td>ADA    </td><td>ER+</td></tr>\n",
       "\t<tr><th scope=row>3</th><td>ADAM7  </td><td>ER+</td></tr>\n",
       "\t<tr><th scope=row>4</th><td>AIM2   </td><td>ER+</td></tr>\n",
       "\t<tr><th scope=row>5</th><td>AOAH   </td><td>ER+</td></tr>\n",
       "\t<tr><th scope=row>6</th><td>APBB1IP</td><td>ER+</td></tr>\n",
       "</tbody>\n",
       "</table>\n"
      ],
      "text/latex": [
       "A data.frame: 6 × 2\n",
       "\\begin{tabular}{r|ll}\n",
       "  & gene & ER\\\\\n",
       "  & <chr> & <chr>\\\\\n",
       "\\hline\n",
       "\t1 & ACAP1   & ER+\\\\\n",
       "\t2 & ADA     & ER+\\\\\n",
       "\t3 & ADAM7   & ER+\\\\\n",
       "\t4 & AIM2    & ER+\\\\\n",
       "\t5 & AOAH    & ER+\\\\\n",
       "\t6 & APBB1IP & ER+\\\\\n",
       "\\end{tabular}\n"
      ],
      "text/markdown": [
       "\n",
       "A data.frame: 6 × 2\n",
       "\n",
       "| <!--/--> | gene &lt;chr&gt; | ER &lt;chr&gt; |\n",
       "|---|---|---|\n",
       "| 1 | ACAP1   | ER+ |\n",
       "| 2 | ADA     | ER+ |\n",
       "| 3 | ADAM7   | ER+ |\n",
       "| 4 | AIM2    | ER+ |\n",
       "| 5 | AOAH    | ER+ |\n",
       "| 6 | APBB1IP | ER+ |\n",
       "\n"
      ],
      "text/plain": [
       "  gene    ER \n",
       "1 ACAP1   ER+\n",
       "2 ADA     ER+\n",
       "3 ADAM7   ER+\n",
       "4 AIM2    ER+\n",
       "5 AOAH    ER+\n",
       "6 APBB1IP ER+"
      ]
     },
     "metadata": {},
     "output_type": "display_data"
    }
   ],
   "source": [
    "immune_genes_tab <- map2_dfr(c(\"ER_positive\", \"ER_negative\", \"normal\"), c(\"ER+\", \"ER-\", \"normal\"), ~\n",
    "        tibble(gene = get_TME_genes(readr::read_rds(here(glue(\"data/{.x}_norm_meth.rds\")))$em_cross_clust, caf_gene = NULL)) %>% mutate(ER = .y) ) %cache_df% here(\"data/immune_genes_by_er.tsv\")\n",
    "\n",
    "immune_genes_tab %>% count(ER)\n",
    "head(immune_genes_tab)"
   ]
  },
  {
   "cell_type": "code",
   "execution_count": 6,
   "metadata": {},
   "outputs": [],
   "source": [
    "writexl::write_xlsx(immune_genes_tab, here(\"export/S2 - Immune expression signature.xlsx\"))"
   ]
  },
  {
   "cell_type": "markdown",
   "metadata": {},
   "source": [
    "## Table 3: CAF expression signature "
   ]
  },
  {
   "cell_type": "markdown",
   "metadata": {},
   "source": [
    "Table of genes that were used to define the CAF expression signature, separated by ER status."
   ]
  },
  {
   "cell_type": "code",
   "execution_count": 7,
   "metadata": {},
   "outputs": [
    {
     "data": {
      "text/html": [
       "<table class=\"dataframe\">\n",
       "<caption>A data.frame: 3 × 2</caption>\n",
       "<thead>\n",
       "\t<tr><th scope=col>ER</th><th scope=col>n</th></tr>\n",
       "\t<tr><th scope=col>&lt;chr&gt;</th><th scope=col>&lt;int&gt;</th></tr>\n",
       "</thead>\n",
       "<tbody>\n",
       "\t<tr><td>ER-   </td><td>360</td></tr>\n",
       "\t<tr><td>ER+   </td><td>207</td></tr>\n",
       "\t<tr><td>normal</td><td>592</td></tr>\n",
       "</tbody>\n",
       "</table>\n"
      ],
      "text/latex": [
       "A data.frame: 3 × 2\n",
       "\\begin{tabular}{ll}\n",
       " ER & n\\\\\n",
       " <chr> & <int>\\\\\n",
       "\\hline\n",
       "\t ER-    & 360\\\\\n",
       "\t ER+    & 207\\\\\n",
       "\t normal & 592\\\\\n",
       "\\end{tabular}\n"
      ],
      "text/markdown": [
       "\n",
       "A data.frame: 3 × 2\n",
       "\n",
       "| ER &lt;chr&gt; | n &lt;int&gt; |\n",
       "|---|---|\n",
       "| ER-    | 360 |\n",
       "| ER+    | 207 |\n",
       "| normal | 592 |\n",
       "\n"
      ],
      "text/plain": [
       "  ER     n  \n",
       "1 ER-    360\n",
       "2 ER+    207\n",
       "3 normal 592"
      ]
     },
     "metadata": {},
     "output_type": "display_data"
    },
    {
     "data": {
      "text/html": [
       "<table class=\"dataframe\">\n",
       "<caption>A data.frame: 6 × 2</caption>\n",
       "<thead>\n",
       "\t<tr><th></th><th scope=col>gene</th><th scope=col>ER</th></tr>\n",
       "\t<tr><th></th><th scope=col>&lt;chr&gt;</th><th scope=col>&lt;chr&gt;</th></tr>\n",
       "</thead>\n",
       "<tbody>\n",
       "\t<tr><th scope=row>1</th><td>ABCA6  </td><td>ER+</td></tr>\n",
       "\t<tr><th scope=row>2</th><td>ABCA8  </td><td>ER+</td></tr>\n",
       "\t<tr><th scope=row>3</th><td>ABCB1  </td><td>ER+</td></tr>\n",
       "\t<tr><th scope=row>4</th><td>ACVRL1 </td><td>ER+</td></tr>\n",
       "\t<tr><th scope=row>5</th><td>ADAMTS9</td><td>ER+</td></tr>\n",
       "\t<tr><th scope=row>6</th><td>ALDH1A2</td><td>ER+</td></tr>\n",
       "</tbody>\n",
       "</table>\n"
      ],
      "text/latex": [
       "A data.frame: 6 × 2\n",
       "\\begin{tabular}{r|ll}\n",
       "  & gene & ER\\\\\n",
       "  & <chr> & <chr>\\\\\n",
       "\\hline\n",
       "\t1 & ABCA6   & ER+\\\\\n",
       "\t2 & ABCA8   & ER+\\\\\n",
       "\t3 & ABCB1   & ER+\\\\\n",
       "\t4 & ACVRL1  & ER+\\\\\n",
       "\t5 & ADAMTS9 & ER+\\\\\n",
       "\t6 & ALDH1A2 & ER+\\\\\n",
       "\\end{tabular}\n"
      ],
      "text/markdown": [
       "\n",
       "A data.frame: 6 × 2\n",
       "\n",
       "| <!--/--> | gene &lt;chr&gt; | ER &lt;chr&gt; |\n",
       "|---|---|---|\n",
       "| 1 | ABCA6   | ER+ |\n",
       "| 2 | ABCA8   | ER+ |\n",
       "| 3 | ABCB1   | ER+ |\n",
       "| 4 | ACVRL1  | ER+ |\n",
       "| 5 | ADAMTS9 | ER+ |\n",
       "| 6 | ALDH1A2 | ER+ |\n",
       "\n"
      ],
      "text/plain": [
       "  gene    ER \n",
       "1 ABCA6   ER+\n",
       "2 ABCA8   ER+\n",
       "3 ABCB1   ER+\n",
       "4 ACVRL1  ER+\n",
       "5 ADAMTS9 ER+\n",
       "6 ALDH1A2 ER+"
      ]
     },
     "metadata": {},
     "output_type": "display_data"
    }
   ],
   "source": [
    "caf_genes_tab <- map2_dfr(c(\"ER_positive\", \"ER_negative\", \"normal\"), c(\"ER+\", \"ER-\", \"normal\"), ~\n",
    "        tibble(gene = get_TME_genes(readr::read_rds(here(glue(\"data/{.x}_norm_meth.rds\")))$em_cross_clust, immune_gene = NULL)) %>% mutate(ER = .y) ) %cache_df% here(\"data/caf_genes_by_er.tsv\")\n",
    "\n",
    "caf_genes_tab %>% count(ER)\n",
    "head(caf_genes_tab)"
   ]
  },
  {
   "cell_type": "code",
   "execution_count": 8,
   "metadata": {},
   "outputs": [],
   "source": [
    "writexl::write_xlsx(caf_genes_tab, here(\"export/S3 - CAF expression signature.xlsx\"))"
   ]
  },
  {
   "cell_type": "markdown",
   "metadata": {},
   "source": [
    "## Table 4: Expression-Methylation correlation"
   ]
  },
  {
   "cell_type": "markdown",
   "metadata": {},
   "source": [
    "Expression-Methylation correlation tables. \n",
    "Shown are pairs of tables of the following datasets:\n",
    "1. Raw promoter methylation (Extended Data Fig. 2a,b).\n",
    "2. Immune-CAF normalized methylation for loci that were correlated with MG/ML epigenomic instability (Fig. 2f).\n",
    "3. X chromosome immune-CAF normalized methylation (Extended Data Fig 9a). \n",
    "\n",
    "Each dataset is represented by an expression table, showing the mean correlation of each one of 30/32 methylation clusters in each gene, and a methylation table showing the mean correlation of every locus to 30/32 expression clusters. "
   ]
  },
  {
   "cell_type": "code",
   "execution_count": 9,
   "metadata": {},
   "outputs": [],
   "source": [
    "em_raw <- list(\n",
    "        `ER+` = readr::read_rds(here(\"data/ER_positive_norm_meth.rds\"))$em_cross_clust,\n",
    "        `ER-` = readr::read_rds(here(\"data/ER_negative_norm_meth.rds\"))$em_cross_clust,\n",
    "        `normal` = readr::read_rds(here(\"data/normal_norm_meth.rds\"))$em_cross_clust\n",
    ")"
   ]
  },
  {
   "cell_type": "code",
   "execution_count": 10,
   "metadata": {},
   "outputs": [],
   "source": [
    "em_raw <- map(em_raw, parse_em_cors)"
   ]
  },
  {
   "cell_type": "code",
   "execution_count": 11,
   "metadata": {},
   "outputs": [],
   "source": [
    "norm_em <- readr::read_rds(here(\"data/MG_ML_em_cross_cor_clust.rds\"))\n",
    "norm_em <- parse_em_cors(norm_em)"
   ]
  },
  {
   "cell_type": "code",
   "execution_count": 12,
   "metadata": {},
   "outputs": [],
   "source": [
    "x_em <- readr::read_rds(here(\"data/X_er_positive_em_cross_cor_clust.rds\"))\n",
    "x_em <- parse_em_cors(x_em)"
   ]
  },
  {
   "cell_type": "code",
   "execution_count": 13,
   "metadata": {},
   "outputs": [],
   "source": [
    "sheets <- list(\n",
    "    \"Raw promoters ER+ (Expression)\" = em_raw[[\"ER+\"]]$expr_tab, \n",
    "    \"Raw promoters ER+ (Methylation)\" = em_raw[[\"ER+\"]]$meth_tab,\n",
    "    \"Raw promoters ER- (Expression)\" = em_raw[[\"ER-\"]]$expr_tab, \n",
    "    \"Raw promoters ER- (Methylation)\" = em_raw[[\"ER-\"]]$meth_tab, \n",
    "    \"MG,ML loci ER+ (Expression)\" = norm_em$expr_tab,\n",
    "    \"MG,ML loci ER+ (Methylation)\" = norm_em$meth_tab,\n",
    "    \"X chromosome ER+ (Expression)\" = x_em$expr_tab, \n",
    "    \"X chromosome ER+ (Methylation)\" = x_em$meth_tab\n",
    ")"
   ]
  },
  {
   "cell_type": "code",
   "execution_count": 14,
   "metadata": {},
   "outputs": [],
   "source": [
    "writexl::write_xlsx(sheets, here(\"export/S4 - Expression-methylation correlations.xlsx\"))"
   ]
  },
  {
   "cell_type": "markdown",
   "metadata": {},
   "source": [
    "## Table 5: Methylation scores"
   ]
  },
  {
   "cell_type": "markdown",
   "metadata": {},
   "source": [
    "Table with CAF, Immune, Clock, MG and ML methylation scores per METABRIC sample."
   ]
  },
  {
   "cell_type": "code",
   "execution_count": 15,
   "metadata": {},
   "outputs": [],
   "source": [
    "tab <- get_all_features()"
   ]
  },
  {
   "cell_type": "code",
   "execution_count": 16,
   "metadata": {},
   "outputs": [],
   "source": [
    "writexl::write_xlsx(tab, here(\"export/S5 - Methylation scores.xlsx\"))"
   ]
  },
  {
   "cell_type": "markdown",
   "metadata": {},
   "source": [
    "## Table 6: Gene expression correlation to epigenomic instability"
   ]
  },
  {
   "cell_type": "markdown",
   "metadata": {},
   "source": [
    "Tables of genes that have an absolute expression correlation higher than 0.3 to MG/ML/Clock scores, together with their respective correlations."
   ]
  },
  {
   "cell_type": "code",
   "execution_count": 17,
   "metadata": {},
   "outputs": [],
   "source": [
    "feat_gene_cors <- get_expression_features_cors()\n",
    "cor_thresh <- 0.3"
   ]
  },
  {
   "cell_type": "code",
   "execution_count": 18,
   "metadata": {},
   "outputs": [],
   "source": [
    "tab <- feat_gene_cors %>% filter(abs(MG) >= cor_thresh | abs(ML) >= cor_thresh | abs(clock) > cor_thresh) %>% mutate(ER = factor(ER, levels = c(\"ER+\", \"ER-\", \"normal\"))) %>% select(name, ER,  clock.cor = clock, MG.cor = MG, ML.cor = ML, caf.cor = caf, immune.cor = immune) %>% arrange(ER, clock.cor, MG.cor, ML.cor)"
   ]
  },
  {
   "cell_type": "code",
   "execution_count": 19,
   "metadata": {},
   "outputs": [],
   "source": [
    "writexl::write_xlsx(tab, here(\"export/S6 - Gene expression correlation to methylation scores.xlsx\"))"
   ]
  },
  {
   "cell_type": "markdown",
   "metadata": {},
   "source": [
    "## Table 7: Methylation layers loci"
   ]
  },
  {
   "cell_type": "markdown",
   "metadata": {},
   "source": [
    "Coordinates of loci that were used in order to calculate the CAF, Immune, Clock, MG and ML scores.  "
   ]
  },
  {
   "cell_type": "code",
   "execution_count": 20,
   "metadata": {},
   "outputs": [],
   "source": [
    "clust_df <- fread(here(\"data/ER_positive_loci_clust.tsv\") ) %>% as_tibble()"
   ]
  },
  {
   "cell_type": "code",
   "execution_count": 21,
   "metadata": {},
   "outputs": [
    {
     "data": {
      "text/html": [
       "<table class=\"dataframe\">\n",
       "<caption>A tibble: 6 × 4</caption>\n",
       "<thead>\n",
       "\t<tr><th scope=col>chrom</th><th scope=col>start</th><th scope=col>end</th><th scope=col>layer</th></tr>\n",
       "\t<tr><th scope=col>&lt;chr&gt;</th><th scope=col>&lt;int&gt;</th><th scope=col>&lt;int&gt;</th><th scope=col>&lt;chr&gt;</th></tr>\n",
       "</thead>\n",
       "<tbody>\n",
       "\t<tr><td>chr1</td><td> 134998</td><td> 135215</td><td>clock</td></tr>\n",
       "\t<tr><td>chr1</td><td> 837884</td><td> 838076</td><td>clock</td></tr>\n",
       "\t<tr><td>chr1</td><td> 907866</td><td> 908002</td><td>clock</td></tr>\n",
       "\t<tr><td>chr1</td><td> 996514</td><td> 996647</td><td>clock</td></tr>\n",
       "\t<tr><td>chr1</td><td>1086481</td><td>1086732</td><td>clock</td></tr>\n",
       "\t<tr><td>chr1</td><td>1381236</td><td>1381347</td><td>clock</td></tr>\n",
       "</tbody>\n",
       "</table>\n"
      ],
      "text/latex": [
       "A tibble: 6 × 4\n",
       "\\begin{tabular}{llll}\n",
       " chrom & start & end & layer\\\\\n",
       " <chr> & <int> & <int> & <chr>\\\\\n",
       "\\hline\n",
       "\t chr1 &  134998 &  135215 & clock\\\\\n",
       "\t chr1 &  837884 &  838076 & clock\\\\\n",
       "\t chr1 &  907866 &  908002 & clock\\\\\n",
       "\t chr1 &  996514 &  996647 & clock\\\\\n",
       "\t chr1 & 1086481 & 1086732 & clock\\\\\n",
       "\t chr1 & 1381236 & 1381347 & clock\\\\\n",
       "\\end{tabular}\n"
      ],
      "text/markdown": [
       "\n",
       "A tibble: 6 × 4\n",
       "\n",
       "| chrom &lt;chr&gt; | start &lt;int&gt; | end &lt;int&gt; | layer &lt;chr&gt; |\n",
       "|---|---|---|---|\n",
       "| chr1 |  134998 |  135215 | clock |\n",
       "| chr1 |  837884 |  838076 | clock |\n",
       "| chr1 |  907866 |  908002 | clock |\n",
       "| chr1 |  996514 |  996647 | clock |\n",
       "| chr1 | 1086481 | 1086732 | clock |\n",
       "| chr1 | 1381236 | 1381347 | clock |\n",
       "\n"
      ],
      "text/plain": [
       "  chrom start   end     layer\n",
       "1 chr1   134998  135215 clock\n",
       "2 chr1   837884  838076 clock\n",
       "3 chr1   907866  908002 clock\n",
       "4 chr1   996514  996647 clock\n",
       "5 chr1  1086481 1086732 clock\n",
       "6 chr1  1381236 1381347 clock"
      ]
     },
     "metadata": {},
     "output_type": "display_data"
    }
   ],
   "source": [
    "tab <- clust_df %>% rename(layer = clust) %>% filter(layer %in% c(\"ML\", \"MG\", \"clock\")) %>% arrange(layer, chrom, start, end) \n",
    "head(tab)"
   ]
  },
  {
   "cell_type": "code",
   "execution_count": 22,
   "metadata": {},
   "outputs": [],
   "source": [
    "writexl::write_xlsx(tab, here(\"export/S7 - Methylation layers loci.xlsx\"))"
   ]
  },
  {
   "cell_type": "markdown",
   "metadata": {},
   "source": [
    "## Table 8: Cis regulation candidates "
   ]
  },
  {
   "cell_type": "markdown",
   "metadata": {},
   "source": [
    "Pairs of loci and genes that are candidates for cis regulation in different FDR thresholds. Promoters and genomic loci are shown in separate tables. "
   ]
  },
  {
   "cell_type": "code",
   "execution_count": 23,
   "metadata": {},
   "outputs": [],
   "source": [
    "min_dist <- 5e5\n",
    "min_tss_dist <- 200"
   ]
  },
  {
   "cell_type": "code",
   "execution_count": 24,
   "metadata": {},
   "outputs": [
    {
     "data": {
      "text/html": [
       "<table class=\"dataframe\">\n",
       "<caption>A data.frame: 6 × 16</caption>\n",
       "<thead>\n",
       "\t<tr><th></th><th scope=col>chrom</th><th scope=col>start</th><th scope=col>end</th><th scope=col>type</th><th scope=col>rank</th><th scope=col>gene</th><th scope=col>cor</th><th scope=col>chrom_expr</th><th scope=col>start_expr</th><th scope=col>end_expr</th><th scope=col>strand_expr</th><th scope=col>dist</th><th scope=col>n_obs</th><th scope=col>n_shuff</th><th scope=col>fdr</th><th scope=col>ER</th></tr>\n",
       "\t<tr><th></th><th scope=col>&lt;chr&gt;</th><th scope=col>&lt;int&gt;</th><th scope=col>&lt;int&gt;</th><th scope=col>&lt;chr&gt;</th><th scope=col>&lt;int&gt;</th><th scope=col>&lt;chr&gt;</th><th scope=col>&lt;dbl&gt;</th><th scope=col>&lt;chr&gt;</th><th scope=col>&lt;int&gt;</th><th scope=col>&lt;int&gt;</th><th scope=col>&lt;int&gt;</th><th scope=col>&lt;int&gt;</th><th scope=col>&lt;int&gt;</th><th scope=col>&lt;int&gt;</th><th scope=col>&lt;dbl&gt;</th><th scope=col>&lt;chr&gt;</th></tr>\n",
       "</thead>\n",
       "<tbody>\n",
       "\t<tr><th scope=row>1</th><td>chr1</td><td> 10496</td><td> 10587</td><td>obs</td><td>1</td><td>CT45A3</td><td>-0.2446525</td><td>chrX </td><td>134883487</td><td>134883488</td><td> 1</td><td>NA</td><td>2680</td><td>92</td><td>0.03432836</td><td>ER+</td></tr>\n",
       "\t<tr><th scope=row>2</th><td>chr1</td><td> 10588</td><td> 10639</td><td>obs</td><td>1</td><td>DSCR8 </td><td>-0.1658337</td><td>chr21</td><td> 39493544</td><td> 39493545</td><td> 1</td><td>NA</td><td>2680</td><td>92</td><td>0.03432836</td><td>ER+</td></tr>\n",
       "\t<tr><th scope=row>3</th><td>chr1</td><td>134998</td><td>135215</td><td>obs</td><td>1</td><td>MAGEC2</td><td>-0.2381125</td><td>chrX </td><td>141293076</td><td>141293077</td><td>-1</td><td>NA</td><td>2680</td><td>92</td><td>0.03432836</td><td>ER+</td></tr>\n",
       "\t<tr><th scope=row>4</th><td>chr1</td><td>546168</td><td>546310</td><td>obs</td><td>1</td><td>MAGEA8</td><td>-0.2542376</td><td>chrX </td><td>149009940</td><td>149009941</td><td> 1</td><td>NA</td><td>2680</td><td>92</td><td>0.03432836</td><td>ER+</td></tr>\n",
       "\t<tr><th scope=row>5</th><td>chr1</td><td>565396</td><td>565791</td><td>obs</td><td>1</td><td>RAD51C</td><td>-0.2153869</td><td>chr17</td><td> 56769933</td><td> 56769934</td><td> 1</td><td>NA</td><td>2680</td><td>92</td><td>0.03432836</td><td>ER+</td></tr>\n",
       "\t<tr><th scope=row>6</th><td>chr1</td><td>567121</td><td>567237</td><td>obs</td><td>1</td><td>TIMM23</td><td>-0.2271249</td><td>chr10</td><td> 51623386</td><td> 51623387</td><td>-1</td><td>NA</td><td>2680</td><td>92</td><td>0.03432836</td><td>ER+</td></tr>\n",
       "</tbody>\n",
       "</table>\n"
      ],
      "text/latex": [
       "A data.frame: 6 × 16\n",
       "\\begin{tabular}{r|llllllllllllllll}\n",
       "  & chrom & start & end & type & rank & gene & cor & chrom\\_expr & start\\_expr & end\\_expr & strand\\_expr & dist & n\\_obs & n\\_shuff & fdr & ER\\\\\n",
       "  & <chr> & <int> & <int> & <chr> & <int> & <chr> & <dbl> & <chr> & <int> & <int> & <int> & <int> & <int> & <int> & <dbl> & <chr>\\\\\n",
       "\\hline\n",
       "\t1 & chr1 &  10496 &  10587 & obs & 1 & CT45A3 & -0.2446525 & chrX  & 134883487 & 134883488 &  1 & NA & 2680 & 92 & 0.03432836 & ER+\\\\\n",
       "\t2 & chr1 &  10588 &  10639 & obs & 1 & DSCR8  & -0.1658337 & chr21 &  39493544 &  39493545 &  1 & NA & 2680 & 92 & 0.03432836 & ER+\\\\\n",
       "\t3 & chr1 & 134998 & 135215 & obs & 1 & MAGEC2 & -0.2381125 & chrX  & 141293076 & 141293077 & -1 & NA & 2680 & 92 & 0.03432836 & ER+\\\\\n",
       "\t4 & chr1 & 546168 & 546310 & obs & 1 & MAGEA8 & -0.2542376 & chrX  & 149009940 & 149009941 &  1 & NA & 2680 & 92 & 0.03432836 & ER+\\\\\n",
       "\t5 & chr1 & 565396 & 565791 & obs & 1 & RAD51C & -0.2153869 & chr17 &  56769933 &  56769934 &  1 & NA & 2680 & 92 & 0.03432836 & ER+\\\\\n",
       "\t6 & chr1 & 567121 & 567237 & obs & 1 & TIMM23 & -0.2271249 & chr10 &  51623386 &  51623387 & -1 & NA & 2680 & 92 & 0.03432836 & ER+\\\\\n",
       "\\end{tabular}\n"
      ],
      "text/markdown": [
       "\n",
       "A data.frame: 6 × 16\n",
       "\n",
       "| <!--/--> | chrom &lt;chr&gt; | start &lt;int&gt; | end &lt;int&gt; | type &lt;chr&gt; | rank &lt;int&gt; | gene &lt;chr&gt; | cor &lt;dbl&gt; | chrom_expr &lt;chr&gt; | start_expr &lt;int&gt; | end_expr &lt;int&gt; | strand_expr &lt;int&gt; | dist &lt;int&gt; | n_obs &lt;int&gt; | n_shuff &lt;int&gt; | fdr &lt;dbl&gt; | ER &lt;chr&gt; |\n",
       "|---|---|---|---|---|---|---|---|---|---|---|---|---|---|---|---|---|\n",
       "| 1 | chr1 |  10496 |  10587 | obs | 1 | CT45A3 | -0.2446525 | chrX  | 134883487 | 134883488 |  1 | NA | 2680 | 92 | 0.03432836 | ER+ |\n",
       "| 2 | chr1 |  10588 |  10639 | obs | 1 | DSCR8  | -0.1658337 | chr21 |  39493544 |  39493545 |  1 | NA | 2680 | 92 | 0.03432836 | ER+ |\n",
       "| 3 | chr1 | 134998 | 135215 | obs | 1 | MAGEC2 | -0.2381125 | chrX  | 141293076 | 141293077 | -1 | NA | 2680 | 92 | 0.03432836 | ER+ |\n",
       "| 4 | chr1 | 546168 | 546310 | obs | 1 | MAGEA8 | -0.2542376 | chrX  | 149009940 | 149009941 |  1 | NA | 2680 | 92 | 0.03432836 | ER+ |\n",
       "| 5 | chr1 | 565396 | 565791 | obs | 1 | RAD51C | -0.2153869 | chr17 |  56769933 |  56769934 |  1 | NA | 2680 | 92 | 0.03432836 | ER+ |\n",
       "| 6 | chr1 | 567121 | 567237 | obs | 1 | TIMM23 | -0.2271249 | chr10 |  51623386 |  51623387 | -1 | NA | 2680 | 92 | 0.03432836 | ER+ |\n",
       "\n"
      ],
      "text/plain": [
       "  chrom start  end    type rank gene   cor        chrom_expr start_expr\n",
       "1 chr1   10496  10587 obs  1    CT45A3 -0.2446525 chrX       134883487 \n",
       "2 chr1   10588  10639 obs  1    DSCR8  -0.1658337 chr21       39493544 \n",
       "3 chr1  134998 135215 obs  1    MAGEC2 -0.2381125 chrX       141293076 \n",
       "4 chr1  546168 546310 obs  1    MAGEA8 -0.2542376 chrX       149009940 \n",
       "5 chr1  565396 565791 obs  1    RAD51C -0.2153869 chr17       56769933 \n",
       "6 chr1  567121 567237 obs  1    TIMM23 -0.2271249 chr10       51623386 \n",
       "  end_expr  strand_expr dist n_obs n_shuff fdr        ER \n",
       "1 134883488  1          NA   2680  92      0.03432836 ER+\n",
       "2  39493545  1          NA   2680  92      0.03432836 ER+\n",
       "3 141293077 -1          NA   2680  92      0.03432836 ER+\n",
       "4 149009941  1          NA   2680  92      0.03432836 ER+\n",
       "5  56769934  1          NA   2680  92      0.03432836 ER+\n",
       "6  51623387 -1          NA   2680  92      0.03432836 ER+"
      ]
     },
     "metadata": {},
     "output_type": "display_data"
    },
    {
     "data": {
      "text/html": [
       "<style>\n",
       ".list-inline {list-style: none; margin:0; padding: 0}\n",
       ".list-inline>li {display: inline-block}\n",
       ".list-inline>li:not(:last-child)::after {content: \"\\00b7\"; padding: 0 .5ex}\n",
       "</style>\n",
       "<ol class=list-inline><li>55616700</li><li>16</li></ol>\n"
      ],
      "text/latex": [
       "\\begin{enumerate*}\n",
       "\\item 55616700\n",
       "\\item 16\n",
       "\\end{enumerate*}\n"
      ],
      "text/markdown": [
       "1. 55616700\n",
       "2. 16\n",
       "\n",
       "\n"
      ],
      "text/plain": [
       "[1] 55616700       16"
      ]
     },
     "metadata": {},
     "output_type": "display_data"
    }
   ],
   "source": [
    "genomic_cis_cands <- bind_rows(\n",
    "    fread(here(\"data/genomic_cis_cands_ER_positive.tsv\")),\n",
    "    fread(here(\"data/genomic_cis_cands_ER_negative.tsv\")),\n",
    "    fread(here(\"data/genomic_cis_cands_normal.tsv\")))\n",
    "head(genomic_cis_cands)\n",
    "dim(genomic_cis_cands)"
   ]
  },
  {
   "cell_type": "code",
   "execution_count": 25,
   "metadata": {},
   "outputs": [],
   "source": [
    "cands_genomic <- genomic_cis_cands %>%\n",
    "    filter(type == \"obs\", !is.na(dist), abs(dist) <= min_dist, abs(dist) >= min_tss_dist) %>%\n",
    "    arrange(cor) %>% \n",
    "    as_tibble()"
   ]
  },
  {
   "cell_type": "code",
   "execution_count": 26,
   "metadata": {},
   "outputs": [],
   "source": [
    "source(here::here(\"scripts/init.R\"))"
   ]
  },
  {
   "cell_type": "code",
   "execution_count": 27,
   "metadata": {
    "tags": []
   },
   "outputs": [
    {
     "name": "stderr",
     "output_type": "stream",
     "text": [
      "Joining, by = \"coord\"\n",
      "\n",
      "Joining, by = \"gene\"\n",
      "\n",
      "Joining, by = \"coord\"\n",
      "\n",
      "Joining, by = \"gene\"\n",
      "\n",
      "Joining, by = \"coord\"\n",
      "\n",
      "Joining, by = \"coord\"\n",
      "\n",
      "Joining, by = \"gene\"\n",
      "\n",
      "Joining, by = \"gene\"\n",
      "\n",
      "Joining, by = \"coord\"\n",
      "\n",
      "Joining, by = \"gene\"\n",
      "\n",
      "Joining, by = \"coord\"\n",
      "\n",
      "Joining, by = \"gene\"\n",
      "\n",
      "Joining, by = \"coord\"\n",
      "\n",
      "Joining, by = \"coord\"\n",
      "\n",
      "Joining, by = \"gene\"\n",
      "\n",
      "Joining, by = \"gene\"\n",
      "\n",
      "Joining, by = \"coord\"\n",
      "\n",
      "Joining, by = \"gene\"\n",
      "\n",
      "Joining, by = \"coord\"\n",
      "\n",
      "Joining, by = \"gene\"\n",
      "\n",
      "Joining, by = \"coord\"\n",
      "\n",
      "Joining, by = \"coord\"\n",
      "\n",
      "Joining, by = \"gene\"\n",
      "\n",
      "Joining, by = \"gene\"\n",
      "\n",
      "Joining, by = \"coord\"\n",
      "\n",
      "Joining, by = \"gene\"\n",
      "\n",
      "Joining, by = \"coord\"\n",
      "\n",
      "Joining, by = \"gene\"\n",
      "\n",
      "Joining, by = \"coord\"\n",
      "\n",
      "Joining, by = \"coord\"\n",
      "\n",
      "Joining, by = \"gene\"\n",
      "\n",
      "Joining, by = \"gene\"\n",
      "\n",
      "Joining, by = \"coord\"\n",
      "\n",
      "Joining, by = \"gene\"\n",
      "\n",
      "Joining, by = \"coord\"\n",
      "\n",
      "Joining, by = \"gene\"\n",
      "\n",
      "Joining, by = \"coord\"\n",
      "\n",
      "Joining, by = \"coord\"\n",
      "\n",
      "Joining, by = \"gene\"\n",
      "\n",
      "Joining, by = \"gene\"\n",
      "\n",
      "Joining, by = \"coord\"\n",
      "\n",
      "Joining, by = \"gene\"\n",
      "\n",
      "Joining, by = \"coord\"\n",
      "\n",
      "Joining, by = \"gene\"\n",
      "\n",
      "Joining, by = \"coord\"\n",
      "\n",
      "Joining, by = \"coord\"\n",
      "\n",
      "Joining, by = \"gene\"\n",
      "\n",
      "Joining, by = \"gene\"\n",
      "\n"
     ]
    }
   ],
   "source": [
    "genomic_list <- list(\n",
    "    `Genomic (best correlation)` = cands_genomic %>% filter(rank == 1),\n",
    "    `Genomic (FDR < 0.05)` = cands_genomic %>% filter(fdr < 0.05), \n",
    "    `Genomic (FDR < 0.1)` = cands_genomic %>% filter(fdr < 0.1)\n",
    ")\n",
    "\n",
    "genomic_list <- map(genomic_list, ~ annotate_cis_cands(.x, sigma_meth = 2, sigma_expr = 2, meth_diff = 0.2, expr_diff = 1))"
   ]
  },
  {
   "cell_type": "code",
   "execution_count": 28,
   "metadata": {},
   "outputs": [],
   "source": [
    "genomic_list <- map(genomic_list, ~ .x %>% \n",
    "    select(gene, \n",
    "           ER, \n",
    "           chrom, \n",
    "           start, \n",
    "           end,            \n",
    "           distance = dist, \n",
    "           fdr, \n",
    "           rank, \n",
    "           cor, \n",
    "           mean_meth, \n",
    "           sd_meth, \n",
    "           mean_expr, \n",
    "           sd_expr, \n",
    "           normal_meth, \n",
    "           normal_meth_sd, \n",
    "           normal_expr, \n",
    "           normal_expr_sd, \n",
    "           n_hypometh, \n",
    "           n_induced, \n",
    "           n_hypermeth, \n",
    "           n_repressed, \n",
    "           N_considered, \n",
    "           n_hypometh_vs_normal,\n",
    "           n_stable_vs_normal, \n",
    "           n_hypermeth_vs_normal, \n",
    "           n_repressed_vs_normal, \n",
    "           n_stable_expr_vs_normal, \n",
    "           n_induced_vs_normal) %>% \n",
    "                    arrange(cor) \n",
    ")"
   ]
  },
  {
   "cell_type": "code",
   "execution_count": 29,
   "metadata": {},
   "outputs": [],
   "source": [
    "cands_prom <- fread(here(\"data/promoter_cis_cands.tsv\")) %>% as_tibble() "
   ]
  },
  {
   "cell_type": "code",
   "execution_count": 30,
   "metadata": {},
   "outputs": [],
   "source": [
    "prom_list <- list(\n",
    "    `Promoters (best correlation)` = cands_prom %>% filter(r == 1),\n",
    "    `Promoters (FDR < 0.005)` = cands_prom %>% filter(fdr < 0.005), \n",
    "    `Promoters (FDR < 0.01)` = cands_prom %>% filter(fdr < 0.01),\n",
    "    `Promoters (FDR < 0.05)` = cands_prom %>% filter(fdr < 0.05)\n",
    ")\n"
   ]
  },
  {
   "cell_type": "code",
   "execution_count": 31,
   "metadata": {
    "tags": []
   },
   "outputs": [
    {
     "name": "stderr",
     "output_type": "stream",
     "text": [
      "Joining, by = \"coord\"\n",
      "\n",
      "Joining, by = \"gene\"\n",
      "\n",
      "Joining, by = \"coord\"\n",
      "\n",
      "Joining, by = \"gene\"\n",
      "\n",
      "Joining, by = \"coord\"\n",
      "\n",
      "Joining, by = \"coord\"\n",
      "\n",
      "Joining, by = \"gene\"\n",
      "\n",
      "Joining, by = \"gene\"\n",
      "\n",
      "Joining, by = \"coord\"\n",
      "\n",
      "Joining, by = \"gene\"\n",
      "\n",
      "Joining, by = \"coord\"\n",
      "\n",
      "Joining, by = \"gene\"\n",
      "\n",
      "Joining, by = \"coord\"\n",
      "\n",
      "Joining, by = \"coord\"\n",
      "\n",
      "Joining, by = \"gene\"\n",
      "\n",
      "Joining, by = \"gene\"\n",
      "\n",
      "Joining, by = \"coord\"\n",
      "\n",
      "Joining, by = \"gene\"\n",
      "\n",
      "Joining, by = \"coord\"\n",
      "\n",
      "Joining, by = \"gene\"\n",
      "\n",
      "Joining, by = \"coord\"\n",
      "\n",
      "Joining, by = \"coord\"\n",
      "\n",
      "Joining, by = \"gene\"\n",
      "\n",
      "Joining, by = \"gene\"\n",
      "\n",
      "Joining, by = \"coord\"\n",
      "\n",
      "Joining, by = \"gene\"\n",
      "\n",
      "Joining, by = \"coord\"\n",
      "\n",
      "Joining, by = \"gene\"\n",
      "\n",
      "Joining, by = \"coord\"\n",
      "\n",
      "Joining, by = \"coord\"\n",
      "\n",
      "Joining, by = \"gene\"\n",
      "\n",
      "Joining, by = \"gene\"\n",
      "\n",
      "Joining, by = \"coord\"\n",
      "\n",
      "Joining, by = \"gene\"\n",
      "\n",
      "Joining, by = \"coord\"\n",
      "\n",
      "Joining, by = \"gene\"\n",
      "\n",
      "Joining, by = \"coord\"\n",
      "\n",
      "Joining, by = \"coord\"\n",
      "\n",
      "Joining, by = \"gene\"\n",
      "\n",
      "Joining, by = \"gene\"\n",
      "\n",
      "Joining, by = \"coord\"\n",
      "\n",
      "Joining, by = \"gene\"\n",
      "\n",
      "Joining, by = \"coord\"\n",
      "\n",
      "Joining, by = \"gene\"\n",
      "\n",
      "Joining, by = \"coord\"\n",
      "\n",
      "Joining, by = \"coord\"\n",
      "\n",
      "Joining, by = \"gene\"\n",
      "\n",
      "Joining, by = \"gene\"\n",
      "\n",
      "Joining, by = \"coord\"\n",
      "\n",
      "Joining, by = \"gene\"\n",
      "\n",
      "Joining, by = \"coord\"\n",
      "\n",
      "Joining, by = \"gene\"\n",
      "\n",
      "Joining, by = \"coord\"\n",
      "\n",
      "Joining, by = \"coord\"\n",
      "\n",
      "Joining, by = \"gene\"\n",
      "\n",
      "Joining, by = \"gene\"\n",
      "\n",
      "Joining, by = \"coord\"\n",
      "\n",
      "Joining, by = \"gene\"\n",
      "\n",
      "Joining, by = \"coord\"\n",
      "\n",
      "Joining, by = \"gene\"\n",
      "\n",
      "Joining, by = \"coord\"\n",
      "\n",
      "Joining, by = \"coord\"\n",
      "\n",
      "Joining, by = \"gene\"\n",
      "\n",
      "Joining, by = \"gene\"\n",
      "\n"
     ]
    }
   ],
   "source": [
    "prom_list <- map(prom_list, ~ annotate_cis_cands(.x %>% rename(gene = name), sigma_meth = 2, sigma_expr = 2, meth_diff = 0.2, expr_diff = 1))"
   ]
  },
  {
   "cell_type": "code",
   "execution_count": 32,
   "metadata": {},
   "outputs": [],
   "source": [
    "prom_list <- map(prom_list, ~ \n",
    "                .x %>% \n",
    "        mutate(diff = abs(best - kth)) %>% \n",
    "        select(gene, ER, chrom, start, end, fdr, rank = r, cor, diff_from_second_best = diff, mean_meth, sd_meth, mean_expr, sd_expr, normal_meth, normal_meth_sd, normal_expr, normal_expr_sd, n_hypometh, n_induced, n_hypermeth, n_repressed, N_considered, n_hypometh_vs_normal, n_stable_vs_normal, n_hypermeth_vs_normal, n_repressed_vs_normal, n_stable_expr_vs_normal, n_induced_vs_normal) %>%\n",
    "                arrange(cor) )"
   ]
  },
  {
   "cell_type": "code",
   "execution_count": 33,
   "metadata": {},
   "outputs": [],
   "source": [
    "cis_cands <- c(prom_list, genomic_list)    "
   ]
  },
  {
   "cell_type": "code",
   "execution_count": 34,
   "metadata": {},
   "outputs": [],
   "source": [
    "writexl::write_xlsx(x = cis_cands, path = here(\"export/S8 - Cis Regulation Candidates.xlsx\"))"
   ]
  },
  {
   "cell_type": "markdown",
   "metadata": {},
   "source": [
    "## Table 9: Dosage compensation in autosomes "
   ]
  },
  {
   "cell_type": "markdown",
   "metadata": {},
   "source": [
    "Table of autosome promoters that show increase of at least 10% in methylation when amplified to at least 3N vs 2N (‘Gain 3N’ table), at least 4N vs 2N (‘Amplification 4N’). The table ‘Loss’ shows loci that showed decreased methylation of at least 10% when losing a copy (1N vs 2N). "
   ]
  },
  {
   "cell_type": "code",
   "execution_count": 35,
   "metadata": {},
   "outputs": [],
   "source": [
    "gen_dosage_comp_excel()"
   ]
  },
  {
   "cell_type": "code",
   "execution_count": 36,
   "metadata": {},
   "outputs": [
    {
     "data": {
      "text/html": [
       "<table class=\"dataframe\">\n",
       "<caption>A matrix: 2 × 6 of type dbl</caption>\n",
       "<thead>\n",
       "\t<tr><th></th><th scope=col>used</th><th scope=col>(Mb)</th><th scope=col>gc trigger</th><th scope=col>(Mb)</th><th scope=col>max used</th><th scope=col>(Mb)</th></tr>\n",
       "</thead>\n",
       "<tbody>\n",
       "\t<tr><th scope=row>Ncells</th><td>   4166139</td><td>  222.5</td><td>   7567535</td><td>  404.2</td><td>   7567535</td><td>  404.2</td></tr>\n",
       "\t<tr><th scope=row>Vcells</th><td>2636389391</td><td>20114.1</td><td>4278222690</td><td>32640.3</td><td>4163949969</td><td>31768.5</td></tr>\n",
       "</tbody>\n",
       "</table>\n"
      ],
      "text/latex": [
       "A matrix: 2 × 6 of type dbl\n",
       "\\begin{tabular}{r|llllll}\n",
       "  & used & (Mb) & gc trigger & (Mb) & max used & (Mb)\\\\\n",
       "\\hline\n",
       "\tNcells &    4166139 &   222.5 &    7567535 &   404.2 &    7567535 &   404.2\\\\\n",
       "\tVcells & 2636389391 & 20114.1 & 4278222690 & 32640.3 & 4163949969 & 31768.5\\\\\n",
       "\\end{tabular}\n"
      ],
      "text/markdown": [
       "\n",
       "A matrix: 2 × 6 of type dbl\n",
       "\n",
       "| <!--/--> | used | (Mb) | gc trigger | (Mb) | max used | (Mb) |\n",
       "|---|---|---|---|---|---|---|\n",
       "| Ncells |    4166139 |   222.5 |    7567535 |   404.2 |    7567535 |   404.2 |\n",
       "| Vcells | 2636389391 | 20114.1 | 4278222690 | 32640.3 | 4163949969 | 31768.5 |\n",
       "\n"
      ],
      "text/plain": [
       "       used       (Mb)    gc trigger (Mb)    max used   (Mb)   \n",
       "Ncells    4166139   222.5    7567535   404.2    7567535   404.2\n",
       "Vcells 2636389391 20114.1 4278222690 32640.3 4163949969 31768.5"
      ]
     },
     "metadata": {},
     "output_type": "display_data"
    }
   ],
   "source": [
    "gc()"
   ]
  }
 ],
 "metadata": {
  "jupytext": {
   "formats": "ipynb,Rmd"
  },
  "kernelspec": {
   "display_name": "R",
   "language": "R",
   "name": "ir"
  },
  "language_info": {
   "codemirror_mode": "r",
   "file_extension": ".r",
   "mimetype": "text/x-r-source",
   "name": "R",
   "pygments_lexer": "r",
   "version": "4.0.3"
  }
 },
 "nbformat": 4,
 "nbformat_minor": 4
}
