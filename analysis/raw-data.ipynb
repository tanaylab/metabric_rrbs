{
 "cells": [
  {
   "cell_type": "markdown",
   "metadata": {},
   "source": [
    "# Raw data extraction"
   ]
  },
  {
   "cell_type": "code",
   "execution_count": 5,
   "metadata": {},
   "outputs": [
    {
     "name": "stderr",
     "output_type": "stream",
     "text": [
      "Loading methylayer\n",
      "\n"
     ]
    }
   ],
   "source": [
    "source(here::here(\"scripts/init.R\"))"
   ]
  },
  {
   "cell_type": "markdown",
   "metadata": {},
   "source": [
    "## Extract raw methylation data"
   ]
  },
  {
   "cell_type": "markdown",
   "metadata": {},
   "source": [
    "Due to the large size of the METABRIC methylation data we have to parallelize heavily. We do so using a custom api for a Sun Grid Engine (SGE) cluster, see `misha.ext::gcluster.run2` for details."
   ]
  },
  {
   "cell_type": "markdown",
   "metadata": {},
   "source": [
    "### Msp1 fragments"
   ]
  },
  {
   "cell_type": "markdown",
   "metadata": {},
   "source": [
    "We average all CpGs on one Msp1 fragment. \\\n",
    "Fragments with less than 30 methylation calls are considered missing data (NA):"
   ]
  },
  {
   "cell_type": "code",
   "execution_count": 2,
   "metadata": {},
   "outputs": [],
   "source": [
    "msp1_meth <- get_msp1_meth(min_cov = 30)"
   ]
  },
  {
   "cell_type": "code",
   "execution_count": 3,
   "metadata": {},
   "outputs": [
    {
     "data": {
      "text/html": [
       "<style>\n",
       ".list-inline {list-style: none; margin:0; padding: 0}\n",
       ".list-inline>li {display: inline-block}\n",
       ".list-inline>li:not(:last-child)::after {content: \"\\00b7\"; padding: 0 .5ex}\n",
       "</style>\n",
       "<ol class=list-inline><li>2297198</li><li>2016</li></ol>\n"
      ],
      "text/latex": [
       "\\begin{enumerate*}\n",
       "\\item 2297198\n",
       "\\item 2016\n",
       "\\end{enumerate*}\n"
      ],
      "text/markdown": [
       "1. 2297198\n",
       "2. 2016\n",
       "\n",
       "\n"
      ],
      "text/plain": [
       "[1] 2297198    2016"
      ]
     },
     "metadata": {},
     "output_type": "display_data"
    },
    {
     "data": {
      "text/html": [
       "<table>\n",
       "<caption>A matrix: 2 × 6 of type dbl</caption>\n",
       "<thead>\n",
       "\t<tr><th></th><th scope=col>used</th><th scope=col>(Mb)</th><th scope=col>gc trigger</th><th scope=col>(Mb)</th><th scope=col>max used</th><th scope=col>(Mb)</th></tr>\n",
       "</thead>\n",
       "<tbody>\n",
       "\t<tr><th scope=row>Ncells</th><td>   2917104</td><td>  155.8</td><td>   4953054</td><td>  264.6</td><td>    4953054</td><td>  264.6</td></tr>\n",
       "\t<tr><th scope=row>Vcells</th><td>3503070886</td><td>26726.4</td><td>9823038413</td><td>74943.9</td><td>10448810008</td><td>79718.1</td></tr>\n",
       "</tbody>\n",
       "</table>\n"
      ],
      "text/latex": [
       "A matrix: 2 × 6 of type dbl\n",
       "\\begin{tabular}{r|llllll}\n",
       "  & used & (Mb) & gc trigger & (Mb) & max used & (Mb)\\\\\n",
       "\\hline\n",
       "\tNcells &    2917104 &   155.8 &    4953054 &   264.6 &     4953054 &   264.6\\\\\n",
       "\tVcells & 3503070886 & 26726.4 & 9823038413 & 74943.9 & 10448810008 & 79718.1\\\\\n",
       "\\end{tabular}\n"
      ],
      "text/markdown": [
       "\n",
       "A matrix: 2 × 6 of type dbl\n",
       "\n",
       "| <!--/--> | used | (Mb) | gc trigger | (Mb) | max used | (Mb) |\n",
       "|---|---|---|---|---|---|---|\n",
       "| Ncells |    2917104 |   155.8 |    4953054 |   264.6 |     4953054 |   264.6 |\n",
       "| Vcells | 3503070886 | 26726.4 | 9823038413 | 74943.9 | 10448810008 | 79718.1 |\n",
       "\n"
      ],
      "text/plain": [
       "       used       (Mb)    gc trigger (Mb)    max used    (Mb)   \n",
       "Ncells    2917104   155.8    4953054   264.6     4953054   264.6\n",
       "Vcells 3503070886 26726.4 9823038413 74943.9 10448810008 79718.1"
      ]
     },
     "metadata": {},
     "output_type": "display_data"
    }
   ],
   "source": [
    "dim(msp1_meth$avg)\n",
    "rm(msp1_meth)\n",
    "gc()"
   ]
  },
  {
   "cell_type": "markdown",
   "metadata": {},
   "source": [
    "### Promoters"
   ]
  },
  {
   "cell_type": "markdown",
   "metadata": {},
   "source": [
    "Promoters were defined as 500bp upstream and 50bp downstream from a RefSeq TSS (release 69, hg19). \\\n",
    "We extract average methylation of all CpGs covered in the promoter region. "
   ]
  },
  {
   "cell_type": "code",
   "execution_count": 4,
   "metadata": {},
   "outputs": [],
   "source": [
    "prom_meth <- get_promoter_meth(min_cov = 30)"
   ]
  },
  {
   "cell_type": "code",
   "execution_count": 5,
   "metadata": {},
   "outputs": [
    {
     "data": {
      "text/html": [
       "<style>\n",
       ".list-inline {list-style: none; margin:0; padding: 0}\n",
       ".list-inline>li {display: inline-block}\n",
       ".list-inline>li:not(:last-child)::after {content: \"\\00b7\"; padding: 0 .5ex}\n",
       "</style>\n",
       "<ol class=list-inline><li>33241</li><li>2016</li></ol>\n"
      ],
      "text/latex": [
       "\\begin{enumerate*}\n",
       "\\item 33241\n",
       "\\item 2016\n",
       "\\end{enumerate*}\n"
      ],
      "text/markdown": [
       "1. 33241\n",
       "2. 2016\n",
       "\n",
       "\n"
      ],
      "text/plain": [
       "[1] 33241  2016"
      ]
     },
     "metadata": {},
     "output_type": "display_data"
    },
    {
     "data": {
      "text/html": [
       "<table>\n",
       "<caption>A matrix: 2 × 6 of type dbl</caption>\n",
       "<thead>\n",
       "\t<tr><th></th><th scope=col>used</th><th scope=col>(Mb)</th><th scope=col>gc trigger</th><th scope=col>(Mb)</th><th scope=col>max used</th><th scope=col>(Mb)</th></tr>\n",
       "</thead>\n",
       "<tbody>\n",
       "\t<tr><th scope=row>Ncells</th><td>   2920980</td><td>  156.0</td><td>   4953054</td><td>  264.6</td><td>    4953054</td><td>  264.6</td></tr>\n",
       "\t<tr><th scope=row>Vcells</th><td>3583691734</td><td>27341.4</td><td>9823038413</td><td>74943.9</td><td>10448810008</td><td>79718.1</td></tr>\n",
       "</tbody>\n",
       "</table>\n"
      ],
      "text/latex": [
       "A matrix: 2 × 6 of type dbl\n",
       "\\begin{tabular}{r|llllll}\n",
       "  & used & (Mb) & gc trigger & (Mb) & max used & (Mb)\\\\\n",
       "\\hline\n",
       "\tNcells &    2920980 &   156.0 &    4953054 &   264.6 &     4953054 &   264.6\\\\\n",
       "\tVcells & 3583691734 & 27341.4 & 9823038413 & 74943.9 & 10448810008 & 79718.1\\\\\n",
       "\\end{tabular}\n"
      ],
      "text/markdown": [
       "\n",
       "A matrix: 2 × 6 of type dbl\n",
       "\n",
       "| <!--/--> | used | (Mb) | gc trigger | (Mb) | max used | (Mb) |\n",
       "|---|---|---|---|---|---|---|\n",
       "| Ncells |    2920980 |   156.0 |    4953054 |   264.6 |     4953054 |   264.6 |\n",
       "| Vcells | 3583691734 | 27341.4 | 9823038413 | 74943.9 | 10448810008 | 79718.1 |\n",
       "\n"
      ],
      "text/plain": [
       "       used       (Mb)    gc trigger (Mb)    max used    (Mb)   \n",
       "Ncells    2920980   156.0    4953054   264.6     4953054   264.6\n",
       "Vcells 3583691734 27341.4 9823038413 74943.9 10448810008 79718.1"
      ]
     },
     "metadata": {},
     "output_type": "display_data"
    }
   ],
   "source": [
    "dim(prom_meth$avg)\n",
    "rm(prom_meth)\n",
    "gc()"
   ]
  },
  {
   "cell_type": "markdown",
   "metadata": {},
   "source": [
    "> Note that the above table contains multiple rows for the same promoter when alternative promoters exists."
   ]
  },
  {
   "cell_type": "markdown",
   "metadata": {},
   "source": [
    "#### Filter promoters"
   ]
  },
  {
   "cell_type": "markdown",
   "metadata": {},
   "source": [
    "We keep only promoters that were 70% of the tumor samples and 70% of the normal samples. "
   ]
  },
  {
   "cell_type": "code",
   "execution_count": 6,
   "metadata": {},
   "outputs": [],
   "source": [
    "prom_avg_meth <- get_promoter_avg_meth(normal_fraction = 0.7, tumor_fraction = 0.7)"
   ]
  },
  {
   "cell_type": "code",
   "execution_count": 7,
   "metadata": {},
   "outputs": [
    {
     "data": {
      "text/html": [
       "<style>\n",
       ".list-inline {list-style: none; margin:0; padding: 0}\n",
       ".list-inline>li {display: inline-block}\n",
       ".list-inline>li:not(:last-child)::after {content: \"\\00b7\"; padding: 0 .5ex}\n",
       "</style>\n",
       "<ol class=list-inline><li>15821</li><li>2016</li></ol>\n"
      ],
      "text/latex": [
       "\\begin{enumerate*}\n",
       "\\item 15821\n",
       "\\item 2016\n",
       "\\end{enumerate*}\n"
      ],
      "text/markdown": [
       "1. 15821\n",
       "2. 2016\n",
       "\n",
       "\n"
      ],
      "text/plain": [
       "[1] 15821  2016"
      ]
     },
     "metadata": {},
     "output_type": "display_data"
    }
   ],
   "source": [
    "dim(prom_avg_meth)"
   ]
  },
  {
   "cell_type": "markdown",
   "metadata": {},
   "source": [
    "> Note: this table contains only one row per genomic coordinates"
   ]
  },
  {
   "cell_type": "markdown",
   "metadata": {},
   "source": [
    "### Non-promoter methylation (\"Genomic\")"
   ]
  },
  {
   "cell_type": "markdown",
   "metadata": {},
   "source": [
    "We define a subset of Msp1 fragments that do not have a partial overlap to a defined promoter region or to an exon (within 10 bp of an exon). \\\n",
    "We keep only fragments that were 70% of the tumor samples and 70% of the normal samples. "
   ]
  },
  {
   "cell_type": "code",
   "execution_count": 8,
   "metadata": {},
   "outputs": [
    {
     "data": {
      "text/html": [
       "<style>\n",
       ".list-inline {list-style: none; margin:0; padding: 0}\n",
       ".list-inline>li {display: inline-block}\n",
       ".list-inline>li:not(:last-child)::after {content: \"\\00b7\"; padding: 0 .5ex}\n",
       "</style>\n",
       "<ol class=list-inline><li>193760</li><li>2016</li></ol>\n"
      ],
      "text/latex": [
       "\\begin{enumerate*}\n",
       "\\item 193760\n",
       "\\item 2016\n",
       "\\end{enumerate*}\n"
      ],
      "text/markdown": [
       "1. 193760\n",
       "2. 2016\n",
       "\n",
       "\n"
      ],
      "text/plain": [
       "[1] 193760   2016"
      ]
     },
     "metadata": {},
     "output_type": "display_data"
    }
   ],
   "source": [
    "genomic_meth <- get_genomic_avg_meth(normal_fraction = 0.7, tumor_fraction = 0.7)\n",
    "dim(genomic_meth)"
   ]
  },
  {
   "cell_type": "markdown",
   "metadata": {},
   "source": [
    "### All average methylation loci"
   ]
  },
  {
   "cell_type": "markdown",
   "metadata": {},
   "source": [
    "In order to get average methylation in all the loci, we concatenate the promoter and non-promoter methylation:"
   ]
  },
  {
   "cell_type": "code",
   "execution_count": 9,
   "metadata": {},
   "outputs": [
    {
     "data": {
      "text/html": [
       "<style>\n",
       ".list-inline {list-style: none; margin:0; padding: 0}\n",
       ".list-inline>li {display: inline-block}\n",
       ".list-inline>li:not(:last-child)::after {content: \"\\00b7\"; padding: 0 .5ex}\n",
       "</style>\n",
       "<ol class=list-inline><li>209581</li><li>2016</li></ol>\n"
      ],
      "text/latex": [
       "\\begin{enumerate*}\n",
       "\\item 209581\n",
       "\\item 2016\n",
       "\\end{enumerate*}\n"
      ],
      "text/markdown": [
       "1. 209581\n",
       "2. 2016\n",
       "\n",
       "\n"
      ],
      "text/plain": [
       "[1] 209581   2016"
      ]
     },
     "metadata": {},
     "output_type": "display_data"
    }
   ],
   "source": [
    "all_meth <- get_all_meth()\n",
    "dim(all_meth)"
   ]
  },
  {
   "cell_type": "markdown",
   "metadata": {},
   "source": [
    "### Exons"
   ]
  },
  {
   "cell_type": "markdown",
   "metadata": {},
   "source": [
    "We compute separately the methylation on exons."
   ]
  },
  {
   "cell_type": "code",
   "execution_count": 3,
   "metadata": {},
   "outputs": [],
   "source": [
    "exon_meth <- get_exon_meth(min_cov = 30)"
   ]
  },
  {
   "cell_type": "code",
   "execution_count": 4,
   "metadata": {},
   "outputs": [
    {
     "data": {
      "text/html": [
       "<style>\n",
       ".list-inline {list-style: none; margin:0; padding: 0}\n",
       ".list-inline>li {display: inline-block}\n",
       ".list-inline>li:not(:last-child)::after {content: \"\\00b7\"; padding: 0 .5ex}\n",
       "</style>\n",
       "<ol class=list-inline><li>244639</li><li>1785</li></ol>\n"
      ],
      "text/latex": [
       "\\begin{enumerate*}\n",
       "\\item 244639\n",
       "\\item 1785\n",
       "\\end{enumerate*}\n"
      ],
      "text/markdown": [
       "1. 244639\n",
       "2. 1785\n",
       "\n",
       "\n"
      ],
      "text/plain": [
       "[1] 244639   1785"
      ]
     },
     "metadata": {},
     "output_type": "display_data"
    },
    {
     "data": {
      "text/html": [
       "<table>\n",
       "<caption>A matrix: 2 × 6 of type dbl</caption>\n",
       "<thead>\n",
       "\t<tr><th></th><th scope=col>used</th><th scope=col>(Mb)</th><th scope=col>gc trigger</th><th scope=col>(Mb)</th><th scope=col>max used</th><th scope=col>(Mb)</th></tr>\n",
       "</thead>\n",
       "<tbody>\n",
       "\t<tr><th scope=row>Ncells</th><td>  4190375</td><td> 223.8</td><td>  7625532</td><td> 407.3</td><td>  5907582</td><td> 315.5</td></tr>\n",
       "\t<tr><th scope=row>Vcells</th><td>307423446</td><td>2345.5</td><td>973967811</td><td>7430.8</td><td>962491469</td><td>7343.3</td></tr>\n",
       "</tbody>\n",
       "</table>\n"
      ],
      "text/latex": [
       "A matrix: 2 × 6 of type dbl\n",
       "\\begin{tabular}{r|llllll}\n",
       "  & used & (Mb) & gc trigger & (Mb) & max used & (Mb)\\\\\n",
       "\\hline\n",
       "\tNcells &   4190375 &  223.8 &   7625532 &  407.3 &   5907582 &  315.5\\\\\n",
       "\tVcells & 307423446 & 2345.5 & 973967811 & 7430.8 & 962491469 & 7343.3\\\\\n",
       "\\end{tabular}\n"
      ],
      "text/markdown": [
       "\n",
       "A matrix: 2 × 6 of type dbl\n",
       "\n",
       "| <!--/--> | used | (Mb) | gc trigger | (Mb) | max used | (Mb) |\n",
       "|---|---|---|---|---|---|---|\n",
       "| Ncells |   4190375 |  223.8 |   7625532 |  407.3 |   5907582 |  315.5 |\n",
       "| Vcells | 307423446 | 2345.5 | 973967811 | 7430.8 | 962491469 | 7343.3 |\n",
       "\n"
      ],
      "text/plain": [
       "       used      (Mb)   gc trigger (Mb)   max used  (Mb)  \n",
       "Ncells   4190375  223.8   7625532   407.3   5907582  315.5\n",
       "Vcells 307423446 2345.5 973967811  7430.8 962491469 7343.3"
      ]
     },
     "metadata": {},
     "output_type": "display_data"
    }
   ],
   "source": [
    "dim(exon_meth$avg)\n",
    "rm(exon_meth)\n",
    "gc()"
   ]
  },
  {
   "cell_type": "markdown",
   "metadata": {},
   "source": [
    "#### Filter exons"
   ]
  },
  {
   "cell_type": "markdown",
   "metadata": {},
   "source": [
    "We keep only exons that were 70% of the tumor samples and 70% of the normal samples. "
   ]
  },
  {
   "cell_type": "code",
   "execution_count": 6,
   "metadata": {},
   "outputs": [],
   "source": [
    "exon_avg_meth <- get_exon_avg_meth(normal_fraction = 0.7, tumor_fraction = 0.7)"
   ]
  },
  {
   "cell_type": "code",
   "execution_count": 7,
   "metadata": {},
   "outputs": [
    {
     "data": {
      "text/html": [
       "<style>\n",
       ".list-inline {list-style: none; margin:0; padding: 0}\n",
       ".list-inline>li {display: inline-block}\n",
       ".list-inline>li:not(:last-child)::after {content: \"\\00b7\"; padding: 0 .5ex}\n",
       "</style>\n",
       "<ol class=list-inline><li>29512</li><li>1785</li></ol>\n"
      ],
      "text/latex": [
       "\\begin{enumerate*}\n",
       "\\item 29512\n",
       "\\item 1785\n",
       "\\end{enumerate*}\n"
      ],
      "text/markdown": [
       "1. 29512\n",
       "2. 1785\n",
       "\n",
       "\n"
      ],
      "text/plain": [
       "[1] 29512  1785"
      ]
     },
     "metadata": {},
     "output_type": "display_data"
    }
   ],
   "source": [
    "dim(exon_avg_meth)"
   ]
  },
  {
   "cell_type": "markdown",
   "metadata": {},
   "source": [
    "## Raw expression data"
   ]
  },
  {
   "cell_type": "markdown",
   "metadata": {},
   "source": [
    "We match promoter methylation and gene expression profiles using Refseq annotations. \\\n",
    "Alternative promoters are resolved by selecting the promoter with the minimal average methylation value in the normal samples."
   ]
  },
  {
   "cell_type": "code",
   "execution_count": 10,
   "metadata": {},
   "outputs": [
    {
     "data": {
      "text/html": [
       "<table>\n",
       "<caption>A data.frame: 5 × 10</caption>\n",
       "<thead>\n",
       "\t<tr><th></th><th scope=col>chrom</th><th scope=col>start</th><th scope=col>end</th><th scope=col>name</th><th scope=col>name3.chr</th><th scope=col>MB_0362</th><th scope=col>MB_0346</th><th scope=col>MB_0386</th><th scope=col>MB_0574</th><th scope=col>MB_0185</th></tr>\n",
       "\t<tr><th></th><th scope=col>&lt;chr&gt;</th><th scope=col>&lt;int&gt;</th><th scope=col>&lt;int&gt;</th><th scope=col>&lt;chr&gt;</th><th scope=col>&lt;chr&gt;</th><th scope=col>&lt;dbl&gt;</th><th scope=col>&lt;dbl&gt;</th><th scope=col>&lt;dbl&gt;</th><th scope=col>&lt;dbl&gt;</th><th scope=col>&lt;dbl&gt;</th></tr>\n",
       "</thead>\n",
       "<tbody>\n",
       "\t<tr><th scope=row>1</th><td>chr19</td><td>58864814</td><td>58865365</td><td>A1BG    </td><td>chr19.-.A1BG    </td><td>5.607785</td><td>5.515704</td><td>5.581684</td><td>5.602209</td><td>5.560794</td></tr>\n",
       "\t<tr><th scope=row>2</th><td>chr19</td><td>58862834</td><td>58863385</td><td>A1BG-AS1</td><td>chr19.+.A1BG-AS1</td><td>      NA</td><td>      NA</td><td>      NA</td><td>      NA</td><td>      NA</td></tr>\n",
       "\t<tr><th scope=row>3</th><td>chr10</td><td>52645384</td><td>52645935</td><td>A1CF    </td><td>chr10.-.A1CF    </td><td>5.409415</td><td>5.652667</td><td>5.364459</td><td>5.378185</td><td>5.485144</td></tr>\n",
       "\t<tr><th scope=row>4</th><td>chr12</td><td> 9268507</td><td> 9269058</td><td>A2M     </td><td>chr12.-.A2M     </td><td>7.653319</td><td>6.564312</td><td>8.201633</td><td>7.587296</td><td>8.427318</td></tr>\n",
       "\t<tr><th scope=row>5</th><td>chr12</td><td> 9217271</td><td> 9217822</td><td>A2M-AS1 </td><td>chr12.+.A2M-AS1 </td><td>      NA</td><td>      NA</td><td>      NA</td><td>      NA</td><td>      NA</td></tr>\n",
       "</tbody>\n",
       "</table>\n"
      ],
      "text/latex": [
       "A data.frame: 5 × 10\n",
       "\\begin{tabular}{r|llllllllll}\n",
       "  & chrom & start & end & name & name3.chr & MB\\_0362 & MB\\_0346 & MB\\_0386 & MB\\_0574 & MB\\_0185\\\\\n",
       "  & <chr> & <int> & <int> & <chr> & <chr> & <dbl> & <dbl> & <dbl> & <dbl> & <dbl>\\\\\n",
       "\\hline\n",
       "\t1 & chr19 & 58864814 & 58865365 & A1BG     & chr19.-.A1BG     & 5.607785 & 5.515704 & 5.581684 & 5.602209 & 5.560794\\\\\n",
       "\t2 & chr19 & 58862834 & 58863385 & A1BG-AS1 & chr19.+.A1BG-AS1 &       NA &       NA &       NA &       NA &       NA\\\\\n",
       "\t3 & chr10 & 52645384 & 52645935 & A1CF     & chr10.-.A1CF     & 5.409415 & 5.652667 & 5.364459 & 5.378185 & 5.485144\\\\\n",
       "\t4 & chr12 &  9268507 &  9269058 & A2M      & chr12.-.A2M      & 7.653319 & 6.564312 & 8.201633 & 7.587296 & 8.427318\\\\\n",
       "\t5 & chr12 &  9217271 &  9217822 & A2M-AS1  & chr12.+.A2M-AS1  &       NA &       NA &       NA &       NA &       NA\\\\\n",
       "\\end{tabular}\n"
      ],
      "text/markdown": [
       "\n",
       "A data.frame: 5 × 10\n",
       "\n",
       "| <!--/--> | chrom &lt;chr&gt; | start &lt;int&gt; | end &lt;int&gt; | name &lt;chr&gt; | name3.chr &lt;chr&gt; | MB_0362 &lt;dbl&gt; | MB_0346 &lt;dbl&gt; | MB_0386 &lt;dbl&gt; | MB_0574 &lt;dbl&gt; | MB_0185 &lt;dbl&gt; |\n",
       "|---|---|---|---|---|---|---|---|---|---|---|\n",
       "| 1 | chr19 | 58864814 | 58865365 | A1BG     | chr19.-.A1BG     | 5.607785 | 5.515704 | 5.581684 | 5.602209 | 5.560794 |\n",
       "| 2 | chr19 | 58862834 | 58863385 | A1BG-AS1 | chr19.+.A1BG-AS1 |       NA |       NA |       NA |       NA |       NA |\n",
       "| 3 | chr10 | 52645384 | 52645935 | A1CF     | chr10.-.A1CF     | 5.409415 | 5.652667 | 5.364459 | 5.378185 | 5.485144 |\n",
       "| 4 | chr12 |  9268507 |  9269058 | A2M      | chr12.-.A2M      | 7.653319 | 6.564312 | 8.201633 | 7.587296 | 8.427318 |\n",
       "| 5 | chr12 |  9217271 |  9217822 | A2M-AS1  | chr12.+.A2M-AS1  |       NA |       NA |       NA |       NA |       NA |\n",
       "\n"
      ],
      "text/plain": [
       "  chrom start    end      name     name3.chr        MB_0362  MB_0346  MB_0386 \n",
       "1 chr19 58864814 58865365 A1BG     chr19.-.A1BG     5.607785 5.515704 5.581684\n",
       "2 chr19 58862834 58863385 A1BG-AS1 chr19.+.A1BG-AS1       NA       NA       NA\n",
       "3 chr10 52645384 52645935 A1CF     chr10.-.A1CF     5.409415 5.652667 5.364459\n",
       "4 chr12  9268507  9269058 A2M      chr12.-.A2M      7.653319 6.564312 8.201633\n",
       "5 chr12  9217271  9217822 A2M-AS1  chr12.+.A2M-AS1        NA       NA       NA\n",
       "  MB_0574  MB_0185 \n",
       "1 5.602209 5.560794\n",
       "2       NA       NA\n",
       "3 5.378185 5.485144\n",
       "4 7.587296 8.427318\n",
       "5       NA       NA"
      ]
     },
     "metadata": {},
     "output_type": "display_data"
    },
    {
     "data": {
      "text/html": [
       "<style>\n",
       ".list-inline {list-style: none; margin:0; padding: 0}\n",
       ".list-inline>li {display: inline-block}\n",
       ".list-inline>li:not(:last-child)::after {content: \"\\00b7\"; padding: 0 .5ex}\n",
       "</style>\n",
       "<ol class=list-inline><li>26245</li><li>2129</li></ol>\n"
      ],
      "text/latex": [
       "\\begin{enumerate*}\n",
       "\\item 26245\n",
       "\\item 2129\n",
       "\\end{enumerate*}\n"
      ],
      "text/markdown": [
       "1. 26245\n",
       "2. 2129\n",
       "\n",
       "\n"
      ],
      "text/plain": [
       "[1] 26245  2129"
      ]
     },
     "metadata": {},
     "output_type": "display_data"
    }
   ],
   "source": [
    "expr_mat <- get_gene_expression_mat()\n",
    "expr_mat[1:5, 1:10]\n",
    "dim(expr_mat)"
   ]
  },
  {
   "cell_type": "markdown",
   "metadata": {},
   "source": [
    "## Methylation per CpG"
   ]
  },
  {
   "cell_type": "markdown",
   "metadata": {},
   "source": [
    "### Promoters"
   ]
  },
  {
   "cell_type": "code",
   "execution_count": 4,
   "metadata": {},
   "outputs": [],
   "source": [
    "prom_cpg_meth <- get_promoter_cpgs_meth(min_cov = 1)"
   ]
  },
  {
   "cell_type": "code",
   "execution_count": 5,
   "metadata": {},
   "outputs": [
    {
     "data": {
      "text/html": [
       "<style>\n",
       ".list-inline {list-style: none; margin:0; padding: 0}\n",
       ".list-inline>li {display: inline-block}\n",
       ".list-inline>li:not(:last-child)::after {content: \"\\00b7\"; padding: 0 .5ex}\n",
       "</style>\n",
       "<ol class=list-inline><li>33241</li><li>2016</li></ol>\n"
      ],
      "text/latex": [
       "\\begin{enumerate*}\n",
       "\\item 33241\n",
       "\\item 2016\n",
       "\\end{enumerate*}\n"
      ],
      "text/markdown": [
       "1. 33241\n",
       "2. 2016\n",
       "\n",
       "\n"
      ],
      "text/plain": [
       "[1] 33241  2016"
      ]
     },
     "metadata": {},
     "output_type": "display_data"
    },
    {
     "data": {
      "text/html": [
       "<table>\n",
       "<caption>A matrix: 2 × 6 of type dbl</caption>\n",
       "<thead>\n",
       "\t<tr><th></th><th scope=col>used</th><th scope=col>(Mb)</th><th scope=col>gc trigger</th><th scope=col>(Mb)</th><th scope=col>max used</th><th scope=col>(Mb)</th></tr>\n",
       "</thead>\n",
       "<tbody>\n",
       "\t<tr><th scope=row>Ncells</th><td>   2920980</td><td>  156.0</td><td>   4953054</td><td>  264.6</td><td>    4953054</td><td>  264.6</td></tr>\n",
       "\t<tr><th scope=row>Vcells</th><td>3583691734</td><td>27341.4</td><td>9823038413</td><td>74943.9</td><td>10448810008</td><td>79718.1</td></tr>\n",
       "</tbody>\n",
       "</table>\n"
      ],
      "text/latex": [
       "A matrix: 2 × 6 of type dbl\n",
       "\\begin{tabular}{r|llllll}\n",
       "  & used & (Mb) & gc trigger & (Mb) & max used & (Mb)\\\\\n",
       "\\hline\n",
       "\tNcells &    2920980 &   156.0 &    4953054 &   264.6 &     4953054 &   264.6\\\\\n",
       "\tVcells & 3583691734 & 27341.4 & 9823038413 & 74943.9 & 10448810008 & 79718.1\\\\\n",
       "\\end{tabular}\n"
      ],
      "text/markdown": [
       "\n",
       "A matrix: 2 × 6 of type dbl\n",
       "\n",
       "| <!--/--> | used | (Mb) | gc trigger | (Mb) | max used | (Mb) |\n",
       "|---|---|---|---|---|---|---|\n",
       "| Ncells |    2920980 |   156.0 |    4953054 |   264.6 |     4953054 |   264.6 |\n",
       "| Vcells | 3583691734 | 27341.4 | 9823038413 | 74943.9 | 10448810008 | 79718.1 |\n",
       "\n"
      ],
      "text/plain": [
       "       used       (Mb)    gc trigger (Mb)    max used    (Mb)   \n",
       "Ncells    2920980   156.0    4953054   264.6     4953054   264.6\n",
       "Vcells 3583691734 27341.4 9823038413 74943.9 10448810008 79718.1"
      ]
     },
     "metadata": {},
     "output_type": "display_data"
    }
   ],
   "source": [
    "dim(prom_cpg_meth$avg)\n",
    "rm(prom_cpg_meth)\n",
    "gc()"
   ]
  },
  {
   "cell_type": "code",
   "execution_count": 6,
   "metadata": {},
   "outputs": [],
   "source": [
    "prom_avg_meth_cpgs <- get_promoter_cpgs_avg_meth(normal_fraction = 0.7, tumor_fraction = 0.7)"
   ]
  },
  {
   "cell_type": "code",
   "execution_count": 7,
   "metadata": {},
   "outputs": [
    {
     "data": {
      "text/html": [
       "<style>\n",
       ".list-inline {list-style: none; margin:0; padding: 0}\n",
       ".list-inline>li {display: inline-block}\n",
       ".list-inline>li:not(:last-child)::after {content: \"\\00b7\"; padding: 0 .5ex}\n",
       "</style>\n",
       "<ol class=list-inline><li>15821</li><li>2016</li></ol>\n"
      ],
      "text/latex": [
       "\\begin{enumerate*}\n",
       "\\item 15821\n",
       "\\item 2016\n",
       "\\end{enumerate*}\n"
      ],
      "text/markdown": [
       "1. 15821\n",
       "2. 2016\n",
       "\n",
       "\n"
      ],
      "text/plain": [
       "[1] 15821  2016"
      ]
     },
     "metadata": {},
     "output_type": "display_data"
    }
   ],
   "source": [
    "dim(prom_avg_meth_cpgs)"
   ]
  },
  {
   "cell_type": "markdown",
   "metadata": {},
   "source": [
    "### Non-promoters"
   ]
  },
  {
   "cell_type": "code",
   "execution_count": 8,
   "metadata": {},
   "outputs": [
    {
     "data": {
      "text/html": [
       "<style>\n",
       ".list-inline {list-style: none; margin:0; padding: 0}\n",
       ".list-inline>li {display: inline-block}\n",
       ".list-inline>li:not(:last-child)::after {content: \"\\00b7\"; padding: 0 .5ex}\n",
       "</style>\n",
       "<ol class=list-inline><li>193760</li><li>2016</li></ol>\n"
      ],
      "text/latex": [
       "\\begin{enumerate*}\n",
       "\\item 193760\n",
       "\\item 2016\n",
       "\\end{enumerate*}\n"
      ],
      "text/markdown": [
       "1. 193760\n",
       "2. 2016\n",
       "\n",
       "\n"
      ],
      "text/plain": [
       "[1] 193760   2016"
      ]
     },
     "metadata": {},
     "output_type": "display_data"
    }
   ],
   "source": [
    "genomic_meth_cpgs <- get_genomic_cpgs_avg_meth(normal_fraction = 0.7, tumor_fraction = 0.7)\n",
    "dim(genomic_meth_cpgs)"
   ]
  },
  {
   "cell_type": "code",
   "execution_count": null,
   "metadata": {},
   "outputs": [],
   "source": [
    "gc()"
   ]
  }
 ],
 "metadata": {
  "jupytext": {
   "formats": "ipynb,Rmd"
  },
  "kernelspec": {
   "display_name": "R",
   "language": "R",
   "name": "ir"
  },
  "language_info": {
   "codemirror_mode": "r",
   "file_extension": ".r",
   "mimetype": "text/x-r-source",
   "name": "R",
   "pygments_lexer": "r",
   "version": "4.0.3"
  }
 },
 "nbformat": 4,
 "nbformat_minor": 4
}
